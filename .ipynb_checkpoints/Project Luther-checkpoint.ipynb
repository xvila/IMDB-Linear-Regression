{
 "cells": [
  {
   "cell_type": "code",
   "execution_count": 23,
   "metadata": {
    "collapsed": true
   },
   "outputs": [],
   "source": [
    "import pandas as pd\n",
    "import scrapy\n",
    "import requests\n",
    "from bs4 import BeautifulSoup\n",
    "import re\n",
    "\n",
    "%matplotlib inline\n",
    "import matplotlib.pyplot as plt\n",
    "import seaborn as sns\n",
    "import pydotplus"
   ]
  },
  {
   "cell_type": "code",
   "execution_count": 264,
   "metadata": {},
   "outputs": [],
   "source": [
    "urls = ['https://en.wikipedia.org/wiki/List_of_fiction_works_made_into_feature_films_(0%E2%80%939_and_A%E2%80%93C)',\n",
    "       'https://en.wikipedia.org/wiki/List_of_fiction_works_made_into_feature_films_(D%E2%80%93J)',\n",
    "       'https://en.wikipedia.org/wiki/List_of_fiction_works_made_into_feature_films_(K%E2%80%93R)',\n",
    "       'https://en.wikipedia.org/wiki/List_of_fiction_works_made_into_feature_films_(S%E2%80%93Z)']"
   ]
  },
  {
   "cell_type": "markdown",
   "metadata": {},
   "source": [
    "Scrape Wikipedia for works of fiction that have been turned into feature films"
   ]
  },
  {
   "cell_type": "code",
   "execution_count": 265,
   "metadata": {},
   "outputs": [],
   "source": [
    "def return_dataframe(url):\n",
    "    '''Takes in a url from the wikipedia \"List of Fiction Works Made into \n",
    "    Feature Films\", scrapes the page and returns a dataframe.\n",
    "    '''\n",
    "    response = requests.get(url)\n",
    "    responsePage = response.text\n",
    "    soup = BeautifulSoup(responsePage,'html.parser')\n",
    "    \n",
    "    bookMovie = []\n",
    "    for tr in soup.find_all('tr')[2:]:\n",
    "        if tr == 'NoneType':\n",
    "            next\n",
    "        else:\n",
    "            cols = tr.find_all('td')\n",
    "            x = []\n",
    "            for td in cols:\n",
    "                x.append(td.text)\n",
    "            bookMovie.append(x)\n",
    "    \n",
    "    df = pd.DataFrame(bookMovie,columns=['fiction_work','film_adaptation'])\n",
    "    return df"
   ]
  },
  {
   "cell_type": "code",
   "execution_count": 266,
   "metadata": {},
   "outputs": [],
   "source": [
    "df = return_dataframe(urls[3])"
   ]
  },
  {
   "cell_type": "code",
   "execution_count": 267,
   "metadata": {},
   "outputs": [
    {
     "data": {
      "text/html": [
       "<div>\n",
       "<style>\n",
       "    .dataframe thead tr:only-child th {\n",
       "        text-align: right;\n",
       "    }\n",
       "\n",
       "    .dataframe thead th {\n",
       "        text-align: left;\n",
       "    }\n",
       "\n",
       "    .dataframe tbody tr th {\n",
       "        vertical-align: top;\n",
       "    }\n",
       "</style>\n",
       "<table border=\"1\" class=\"dataframe\">\n",
       "  <thead>\n",
       "    <tr style=\"text-align: right;\">\n",
       "      <th></th>\n",
       "      <th>fiction_work</th>\n",
       "      <th>film_adaptation</th>\n",
       "    </tr>\n",
       "  </thead>\n",
       "  <tbody>\n",
       "    <tr>\n",
       "      <th>0</th>\n",
       "      <td>The Saga of Pecos Bill (1923), Edward O'Reilly</td>\n",
       "      <td>Melody Time (1948)\\nTall Tale (1995)</td>\n",
       "    </tr>\n",
       "    <tr>\n",
       "      <th>1</th>\n",
       "      <td>Sahara (1992), Clive Cussler</td>\n",
       "      <td>Sahara (2005)</td>\n",
       "    </tr>\n",
       "    <tr>\n",
       "      <th>2</th>\n",
       "      <td>The Sailor Who Fell from Grace with the Sea (1...</td>\n",
       "      <td>The Sailor Who Fell from Grace with the Sea (1...</td>\n",
       "    </tr>\n",
       "    <tr>\n",
       "      <th>3</th>\n",
       "      <td>Saint Jack (1973), Paul Theroux</td>\n",
       "      <td>Saint Jack (1979)</td>\n",
       "    </tr>\n",
       "    <tr>\n",
       "      <th>4</th>\n",
       "      <td>Saint Johnson (1930), W. R. Burnett</td>\n",
       "      <td>Law and Order (1932)\\nWild West Days (1937)</td>\n",
       "    </tr>\n",
       "  </tbody>\n",
       "</table>\n",
       "</div>"
      ],
      "text/plain": [
       "                                        fiction_work  \\\n",
       "0     The Saga of Pecos Bill (1923), Edward O'Reilly   \n",
       "1                       Sahara (1992), Clive Cussler   \n",
       "2  The Sailor Who Fell from Grace with the Sea (1...   \n",
       "3                    Saint Jack (1973), Paul Theroux   \n",
       "4                Saint Johnson (1930), W. R. Burnett   \n",
       "\n",
       "                                     film_adaptation  \n",
       "0               Melody Time (1948)\\nTall Tale (1995)  \n",
       "1                                      Sahara (2005)  \n",
       "2  The Sailor Who Fell from Grace with the Sea (1...  \n",
       "3                                  Saint Jack (1979)  \n",
       "4        Law and Order (1932)\\nWild West Days (1937)  "
      ]
     },
     "execution_count": 267,
     "metadata": {},
     "output_type": "execute_result"
    }
   ],
   "source": [
    "df.head()"
   ]
  },
  {
   "cell_type": "code",
   "execution_count": 292,
   "metadata": {},
   "outputs": [],
   "source": [
    "wikiDF = pd.DataFrame()"
   ]
  },
  {
   "cell_type": "code",
   "execution_count": 293,
   "metadata": {},
   "outputs": [
    {
     "data": {
      "text/html": [
       "<div>\n",
       "<style>\n",
       "    .dataframe thead tr:only-child th {\n",
       "        text-align: right;\n",
       "    }\n",
       "\n",
       "    .dataframe thead th {\n",
       "        text-align: left;\n",
       "    }\n",
       "\n",
       "    .dataframe tbody tr th {\n",
       "        vertical-align: top;\n",
       "    }\n",
       "</style>\n",
       "<table border=\"1\" class=\"dataframe\">\n",
       "  <thead>\n",
       "    <tr style=\"text-align: right;\">\n",
       "      <th></th>\n",
       "    </tr>\n",
       "  </thead>\n",
       "  <tbody>\n",
       "  </tbody>\n",
       "</table>\n",
       "</div>"
      ],
      "text/plain": [
       "Empty DataFrame\n",
       "Columns: []\n",
       "Index: []"
      ]
     },
     "execution_count": 293,
     "metadata": {},
     "output_type": "execute_result"
    }
   ],
   "source": [
    "wikiDF.head()"
   ]
  },
  {
   "cell_type": "code",
   "execution_count": 294,
   "metadata": {},
   "outputs": [
    {
     "name": "stdout",
     "output_type": "stream",
     "text": [
      "                                fiction_work       film_adaptation\n",
      "0          100 Rifles (1958), Robert MacLeod     100 Rifles (1969)\n",
      "1  101 Reykjavík (1996), Hallgrímur Helgason  101 Reykjavík (2000)\n",
      "                          fiction_work           film_adaptation\n",
      "0  The Da Vinci Code (2003), Dan Brown  The Da Vinci Code (2006)\n",
      "1          Dad (1981), William Wharton                Dad (1989)\n",
      "  fiction_work                                    film_adaptation\n",
      "0         \\n\\n  This article does not cite any sources. Please...\n",
      "1         None                                               None\n",
      "                                     fiction_work  \\\n",
      "0  The Saga of Pecos Bill (1923), Edward O'Reilly   \n",
      "1                    Sahara (1992), Clive Cussler   \n",
      "\n",
      "                        film_adaptation  \n",
      "0  Melody Time (1948)\\nTall Tale (1995)  \n",
      "1                         Sahara (2005)  \n"
     ]
    }
   ],
   "source": [
    "for url in urls:\n",
    "    df = return_dataframe(url)\n",
    "    print(df.head(2))\n",
    "    wikiDF = wikiDF.append(df,ignore_index=True)"
   ]
  },
  {
   "cell_type": "code",
   "execution_count": 295,
   "metadata": {},
   "outputs": [
    {
     "data": {
      "text/plain": [
       "(1665, 2)"
      ]
     },
     "execution_count": 295,
     "metadata": {},
     "output_type": "execute_result"
    }
   ],
   "source": [
    "wikiDF.shape"
   ]
  },
  {
   "cell_type": "code",
   "execution_count": null,
   "metadata": {
    "collapsed": true
   },
   "outputs": [],
   "source": []
  },
  {
   "cell_type": "raw",
   "metadata": {},
   "source": []
  }
 ],
 "metadata": {
  "kernelspec": {
   "display_name": "Python 3",
   "language": "python",
   "name": "python3"
  },
  "language_info": {
   "codemirror_mode": {
    "name": "ipython",
    "version": 3
   },
   "file_extension": ".py",
   "mimetype": "text/x-python",
   "name": "python",
   "nbconvert_exporter": "python",
   "pygments_lexer": "ipython3",
   "version": "3.6.2"
  }
 },
 "nbformat": 4,
 "nbformat_minor": 2
}
