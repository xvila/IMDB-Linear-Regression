{
 "cells": [
  {
   "cell_type": "code",
   "execution_count": 1,
   "metadata": {
    "collapsed": true
   },
   "outputs": [],
   "source": [
    "import pandas as pd\n",
    "import requests\n",
    "from bs4 import BeautifulSoup\n",
    "import re\n",
    "import json\n",
    "\n",
    "%matplotlib inline\n",
    "import matplotlib.pyplot as plt\n",
    "import seaborn as sns\n",
    "import pydotplus"
   ]
  },
  {
   "cell_type": "code",
   "execution_count": 2,
   "metadata": {
    "collapsed": true
   },
   "outputs": [],
   "source": [
    "urls = ['https://en.wikipedia.org/wiki/List_of_fiction_works_made_into_feature_films_(0%E2%80%939_and_A%E2%80%93C)',\n",
    "       'https://en.wikipedia.org/wiki/List_of_fiction_works_made_into_feature_films_(D%E2%80%93J)',\n",
    "       'https://en.wikipedia.org/wiki/List_of_fiction_works_made_into_feature_films_(K%E2%80%93R)',\n",
    "       'https://en.wikipedia.org/wiki/List_of_fiction_works_made_into_feature_films_(S%E2%80%93Z)']"
   ]
  },
  {
   "cell_type": "markdown",
   "metadata": {},
   "source": [
    "Scrape Wikipedia for works of fiction that have been turned into feature films"
   ]
  },
  {
   "cell_type": "code",
   "execution_count": 37,
   "metadata": {},
   "outputs": [],
   "source": [
    "origDF = pd.read_json('screenplay.json')"
   ]
  },
  {
   "cell_type": "code",
   "execution_count": 38,
   "metadata": {},
   "outputs": [
    {
     "data": {
      "text/html": [
       "<div>\n",
       "<style>\n",
       "    .dataframe thead tr:only-child th {\n",
       "        text-align: right;\n",
       "    }\n",
       "\n",
       "    .dataframe thead th {\n",
       "        text-align: left;\n",
       "    }\n",
       "\n",
       "    .dataframe tbody tr th {\n",
       "        vertical-align: top;\n",
       "    }\n",
       "</style>\n",
       "<table border=\"1\" class=\"dataframe\">\n",
       "  <thead>\n",
       "    <tr style=\"text-align: right;\">\n",
       "      <th></th>\n",
       "      <th>box_office</th>\n",
       "      <th>budget</th>\n",
       "      <th>director</th>\n",
       "      <th>genre</th>\n",
       "      <th>name</th>\n",
       "      <th>rating</th>\n",
       "      <th>runtime</th>\n",
       "      <th>url</th>\n",
       "      <th>user_rating</th>\n",
       "      <th>year</th>\n",
       "    </tr>\n",
       "  </thead>\n",
       "  <tbody>\n",
       "    <tr>\n",
       "      <th>0</th>\n",
       "      <td>$45,055,776</td>\n",
       "      <td>$20,000,000</td>\n",
       "      <td>Tom McCarthy</td>\n",
       "      <td>[' Crime', ' Drama', ' History']</td>\n",
       "      <td>Spotlight</td>\n",
       "      <td>R</td>\n",
       "      <td>128 min</td>\n",
       "      <td>http://www.imdb.com/title/tt1895587/</td>\n",
       "      <td>8.1</td>\n",
       "      <td>2015</td>\n",
       "    </tr>\n",
       "    <tr>\n",
       "      <th>1</th>\n",
       "      <td>$47,695,120</td>\n",
       "      <td>$8,500,000</td>\n",
       "      <td>Kenneth Lonergan</td>\n",
       "      <td>[' Drama']</td>\n",
       "      <td>Manchester by the Sea</td>\n",
       "      <td>R</td>\n",
       "      <td>137 min</td>\n",
       "      <td>http://www.imdb.com/title/tt4034228/</td>\n",
       "      <td>7.9</td>\n",
       "      <td>2016</td>\n",
       "    </tr>\n",
       "    <tr>\n",
       "      <th>2</th>\n",
       "      <td>None</td>\n",
       "      <td>$350,000</td>\n",
       "      <td>Preston Sturges</td>\n",
       "      <td>[' Comedy']</td>\n",
       "      <td>The Great McGinty</td>\n",
       "      <td>Passed</td>\n",
       "      <td>82 min</td>\n",
       "      <td>http://www.imdb.com/title/tt0032554/</td>\n",
       "      <td>7.5</td>\n",
       "      <td>1940</td>\n",
       "    </tr>\n",
       "    <tr>\n",
       "      <th>3</th>\n",
       "      <td>$1,585,634</td>\n",
       "      <td>$839,727</td>\n",
       "      <td>Orson Welles</td>\n",
       "      <td>[' Drama', ' Mystery']</td>\n",
       "      <td>Citizen Kane</td>\n",
       "      <td>Approved</td>\n",
       "      <td>119 min</td>\n",
       "      <td>http://www.imdb.com/title/tt0033467/</td>\n",
       "      <td>8.4</td>\n",
       "      <td>1941</td>\n",
       "    </tr>\n",
       "    <tr>\n",
       "      <th>4</th>\n",
       "      <td>None</td>\n",
       "      <td>None</td>\n",
       "      <td>George Stevens</td>\n",
       "      <td>[' Comedy', ' Drama', ' Romance', ' Sport']</td>\n",
       "      <td>Woman of the Year</td>\n",
       "      <td>Not Rated</td>\n",
       "      <td>114 min</td>\n",
       "      <td>http://www.imdb.com/title/tt0035567/</td>\n",
       "      <td>7.3</td>\n",
       "      <td>1942</td>\n",
       "    </tr>\n",
       "  </tbody>\n",
       "</table>\n",
       "</div>"
      ],
      "text/plain": [
       "    box_office       budget          director  \\\n",
       "0  $45,055,776  $20,000,000      Tom McCarthy   \n",
       "1  $47,695,120   $8,500,000  Kenneth Lonergan   \n",
       "2         None     $350,000   Preston Sturges   \n",
       "3   $1,585,634     $839,727      Orson Welles   \n",
       "4         None         None    George Stevens   \n",
       "\n",
       "                                         genre                   name  \\\n",
       "0             [' Crime', ' Drama', ' History']              Spotlight   \n",
       "1                                   [' Drama']  Manchester by the Sea   \n",
       "2                                  [' Comedy']      The Great McGinty   \n",
       "3                       [' Drama', ' Mystery']           Citizen Kane   \n",
       "4  [' Comedy', ' Drama', ' Romance', ' Sport']      Woman of the Year   \n",
       "\n",
       "      rating  runtime                                   url  user_rating  year  \n",
       "0          R  128 min  http://www.imdb.com/title/tt1895587/          8.1  2015  \n",
       "1          R  137 min  http://www.imdb.com/title/tt4034228/          7.9  2016  \n",
       "2     Passed   82 min  http://www.imdb.com/title/tt0032554/          7.5  1940  \n",
       "3   Approved  119 min  http://www.imdb.com/title/tt0033467/          8.4  1941  \n",
       "4  Not Rated  114 min  http://www.imdb.com/title/tt0035567/          7.3  1942  "
      ]
     },
     "execution_count": 38,
     "metadata": {},
     "output_type": "execute_result"
    }
   ],
   "source": [
    "origDF.head()"
   ]
  },
  {
   "cell_type": "code",
   "execution_count": 40,
   "metadata": {},
   "outputs": [
    {
     "name": "stdout",
     "output_type": "stream",
     "text": [
      "<class 'pandas.core.frame.DataFrame'>\n",
      "Int64Index: 76 entries, 0 to 75\n",
      "Data columns (total 10 columns):\n",
      "box_office     59 non-null object\n",
      "budget         58 non-null object\n",
      "director       76 non-null object\n",
      "genre          76 non-null object\n",
      "name           76 non-null object\n",
      "rating         76 non-null object\n",
      "runtime        75 non-null object\n",
      "url            76 non-null object\n",
      "user_rating    76 non-null float64\n",
      "year           76 non-null int64\n",
      "dtypes: float64(1), int64(1), object(8)\n",
      "memory usage: 6.5+ KB\n"
     ]
    }
   ],
   "source": [
    "origDF.info()"
   ]
  },
  {
   "cell_type": "code",
   "execution_count": 42,
   "metadata": {},
   "outputs": [
    {
     "data": {
      "text/plain": [
       "17"
      ]
     },
     "execution_count": 42,
     "metadata": {},
     "output_type": "execute_result"
    }
   ],
   "source": [
    "origDF.box_office.isnull().sum()"
   ]
  },
  {
   "cell_type": "code",
   "execution_count": 3,
   "metadata": {
    "collapsed": true
   },
   "outputs": [],
   "source": [
    "def return_dataframe(url):\n",
    "    '''Takes in a url from the wikipedia \"List of Fiction Works Made into \n",
    "    Feature Films\", scrapes the page and returns a dataframe.\n",
    "    '''\n",
    "    response = requests.get(url)\n",
    "    responsePage = response.text\n",
    "    soup = BeautifulSoup(responsePage,'html.parser')\n",
    "    \n",
    "    bookMovie = []\n",
    "    for tr in soup.find_all('tr')[2:]:\n",
    "        if tr == 'NoneType':\n",
    "            next\n",
    "        else:\n",
    "            cols = tr.find_all('td')\n",
    "            x = []\n",
    "            for td in cols:\n",
    "                x.append(td.text)\n",
    "            bookMovie.append(x)\n",
    "    \n",
    "    df = pd.DataFrame(bookMovie,columns=['fiction_work','film_adaptation'])\n",
    "    return df"
   ]
  },
  {
   "cell_type": "code",
   "execution_count": 4,
   "metadata": {
    "collapsed": true
   },
   "outputs": [],
   "source": [
    "df = return_dataframe(urls[3])"
   ]
  },
  {
   "cell_type": "code",
   "execution_count": 5,
   "metadata": {},
   "outputs": [
    {
     "data": {
      "text/html": [
       "<div>\n",
       "<style>\n",
       "    .dataframe thead tr:only-child th {\n",
       "        text-align: right;\n",
       "    }\n",
       "\n",
       "    .dataframe thead th {\n",
       "        text-align: left;\n",
       "    }\n",
       "\n",
       "    .dataframe tbody tr th {\n",
       "        vertical-align: top;\n",
       "    }\n",
       "</style>\n",
       "<table border=\"1\" class=\"dataframe\">\n",
       "  <thead>\n",
       "    <tr style=\"text-align: right;\">\n",
       "      <th></th>\n",
       "      <th>fiction_work</th>\n",
       "      <th>film_adaptation</th>\n",
       "    </tr>\n",
       "  </thead>\n",
       "  <tbody>\n",
       "    <tr>\n",
       "      <th>0</th>\n",
       "      <td>The Saga of Pecos Bill (1923), Edward O'Reilly</td>\n",
       "      <td>Melody Time (1948)\\nTall Tale (1995)</td>\n",
       "    </tr>\n",
       "    <tr>\n",
       "      <th>1</th>\n",
       "      <td>Sahara (1992), Clive Cussler</td>\n",
       "      <td>Sahara (2005)</td>\n",
       "    </tr>\n",
       "    <tr>\n",
       "      <th>2</th>\n",
       "      <td>The Sailor Who Fell from Grace with the Sea (1...</td>\n",
       "      <td>The Sailor Who Fell from Grace with the Sea (1...</td>\n",
       "    </tr>\n",
       "    <tr>\n",
       "      <th>3</th>\n",
       "      <td>Saint Jack (1973), Paul Theroux</td>\n",
       "      <td>Saint Jack (1979)</td>\n",
       "    </tr>\n",
       "    <tr>\n",
       "      <th>4</th>\n",
       "      <td>Saint Johnson (1930), W. R. Burnett</td>\n",
       "      <td>Law and Order (1932)\\nWild West Days (1937)</td>\n",
       "    </tr>\n",
       "  </tbody>\n",
       "</table>\n",
       "</div>"
      ],
      "text/plain": [
       "                                        fiction_work  \\\n",
       "0     The Saga of Pecos Bill (1923), Edward O'Reilly   \n",
       "1                       Sahara (1992), Clive Cussler   \n",
       "2  The Sailor Who Fell from Grace with the Sea (1...   \n",
       "3                    Saint Jack (1973), Paul Theroux   \n",
       "4                Saint Johnson (1930), W. R. Burnett   \n",
       "\n",
       "                                     film_adaptation  \n",
       "0               Melody Time (1948)\\nTall Tale (1995)  \n",
       "1                                      Sahara (2005)  \n",
       "2  The Sailor Who Fell from Grace with the Sea (1...  \n",
       "3                                  Saint Jack (1979)  \n",
       "4        Law and Order (1932)\\nWild West Days (1937)  "
      ]
     },
     "execution_count": 5,
     "metadata": {},
     "output_type": "execute_result"
    }
   ],
   "source": [
    "df.head()"
   ]
  },
  {
   "cell_type": "code",
   "execution_count": 6,
   "metadata": {
    "collapsed": true
   },
   "outputs": [],
   "source": [
    "wikiDF = pd.DataFrame()"
   ]
  },
  {
   "cell_type": "code",
   "execution_count": 7,
   "metadata": {},
   "outputs": [
    {
     "name": "stdout",
     "output_type": "stream",
     "text": [
      "                                fiction_work       film_adaptation\n",
      "0          100 Rifles (1958), Robert MacLeod     100 Rifles (1969)\n",
      "1  101 Reykjavík (1996), Hallgrímur Helgason  101 Reykjavík (2000)\n",
      "                          fiction_work           film_adaptation\n",
      "0  The Da Vinci Code (2003), Dan Brown  The Da Vinci Code (2006)\n",
      "1          Dad (1981), William Wharton                Dad (1989)\n",
      "  fiction_work                                    film_adaptation\n",
      "0         \\n\\n  This article does not cite any sources. Please...\n",
      "1         None                                               None\n",
      "                                     fiction_work  \\\n",
      "0  The Saga of Pecos Bill (1923), Edward O'Reilly   \n",
      "1                    Sahara (1992), Clive Cussler   \n",
      "\n",
      "                        film_adaptation  \n",
      "0  Melody Time (1948)\\nTall Tale (1995)  \n",
      "1                         Sahara (2005)  \n"
     ]
    }
   ],
   "source": [
    "for url in urls:\n",
    "    df = return_dataframe(url)\n",
    "    print(df.head(2))\n",
    "    wikiDF = wikiDF.append(df,ignore_index=True)"
   ]
  },
  {
   "cell_type": "code",
   "execution_count": 8,
   "metadata": {},
   "outputs": [
    {
     "data": {
      "text/html": [
       "<div>\n",
       "<style>\n",
       "    .dataframe thead tr:only-child th {\n",
       "        text-align: right;\n",
       "    }\n",
       "\n",
       "    .dataframe thead th {\n",
       "        text-align: left;\n",
       "    }\n",
       "\n",
       "    .dataframe tbody tr th {\n",
       "        vertical-align: top;\n",
       "    }\n",
       "</style>\n",
       "<table border=\"1\" class=\"dataframe\">\n",
       "  <thead>\n",
       "    <tr style=\"text-align: right;\">\n",
       "      <th></th>\n",
       "      <th>fiction_work</th>\n",
       "      <th>film_adaptation</th>\n",
       "    </tr>\n",
       "  </thead>\n",
       "  <tbody>\n",
       "    <tr>\n",
       "      <th>0</th>\n",
       "      <td>100 Rifles (1958), Robert MacLeod</td>\n",
       "      <td>100 Rifles (1969)</td>\n",
       "    </tr>\n",
       "    <tr>\n",
       "      <th>1</th>\n",
       "      <td>101 Reykjavík (1996), Hallgrímur Helgason</td>\n",
       "      <td>101 Reykjavík (2000)</td>\n",
       "    </tr>\n",
       "    <tr>\n",
       "      <th>2</th>\n",
       "      <td>The 120 Days of Sodom (Les 120 journées de Sod...</td>\n",
       "      <td>Salò (1975)</td>\n",
       "    </tr>\n",
       "    <tr>\n",
       "      <th>3</th>\n",
       "      <td>The 25th Hour (2001), David Benioff</td>\n",
       "      <td>25th Hour (2002)</td>\n",
       "    </tr>\n",
       "    <tr>\n",
       "      <th>4</th>\n",
       "      <td>2010: Odyssey Two (1982), Arthur C. Clarke</td>\n",
       "      <td>2010 (1984)</td>\n",
       "    </tr>\n",
       "  </tbody>\n",
       "</table>\n",
       "</div>"
      ],
      "text/plain": [
       "                                        fiction_work       film_adaptation\n",
       "0                  100 Rifles (1958), Robert MacLeod     100 Rifles (1969)\n",
       "1          101 Reykjavík (1996), Hallgrímur Helgason  101 Reykjavík (2000)\n",
       "2  The 120 Days of Sodom (Les 120 journées de Sod...           Salò (1975)\n",
       "3                The 25th Hour (2001), David Benioff      25th Hour (2002)\n",
       "4         2010: Odyssey Two (1982), Arthur C. Clarke           2010 (1984)"
      ]
     },
     "execution_count": 8,
     "metadata": {},
     "output_type": "execute_result"
    }
   ],
   "source": [
    "wikiDF.head()"
   ]
  },
  {
   "cell_type": "code",
   "execution_count": 9,
   "metadata": {},
   "outputs": [
    {
     "data": {
      "text/plain": [
       "(1665, 2)"
      ]
     },
     "execution_count": 9,
     "metadata": {},
     "output_type": "execute_result"
    }
   ],
   "source": [
    "wikiDF.shape"
   ]
  },
  {
   "cell_type": "code",
   "execution_count": 10,
   "metadata": {
    "collapsed": true
   },
   "outputs": [],
   "source": [
    "nullWiki = wikiDF[wikiDF.film_adaptation.isnull()]"
   ]
  },
  {
   "cell_type": "code",
   "execution_count": 11,
   "metadata": {},
   "outputs": [
    {
     "data": {
      "text/plain": [
       "(24, 2)"
      ]
     },
     "execution_count": 11,
     "metadata": {},
     "output_type": "execute_result"
    }
   ],
   "source": [
    "nullWiki.shape"
   ]
  },
  {
   "cell_type": "code",
   "execution_count": 12,
   "metadata": {},
   "outputs": [
    {
     "data": {
      "text/html": [
       "<div>\n",
       "<style>\n",
       "    .dataframe thead tr:only-child th {\n",
       "        text-align: right;\n",
       "    }\n",
       "\n",
       "    .dataframe thead th {\n",
       "        text-align: left;\n",
       "    }\n",
       "\n",
       "    .dataframe tbody tr th {\n",
       "        vertical-align: top;\n",
       "    }\n",
       "</style>\n",
       "<table border=\"1\" class=\"dataframe\">\n",
       "  <thead>\n",
       "    <tr style=\"text-align: right;\">\n",
       "      <th></th>\n",
       "      <th>fiction_work</th>\n",
       "      <th>film_adaptation</th>\n",
       "    </tr>\n",
       "  </thead>\n",
       "  <tbody>\n",
       "    <tr>\n",
       "      <th>14</th>\n",
       "      <td>None</td>\n",
       "      <td>None</td>\n",
       "    </tr>\n",
       "    <tr>\n",
       "      <th>139</th>\n",
       "      <td>None</td>\n",
       "      <td>None</td>\n",
       "    </tr>\n",
       "    <tr>\n",
       "      <th>307</th>\n",
       "      <td>None</td>\n",
       "      <td>None</td>\n",
       "    </tr>\n",
       "    <tr>\n",
       "      <th>315</th>\n",
       "      <td>Bicho de Sete Cabeças (The Great Brain Storm) ...</td>\n",
       "      <td>None</td>\n",
       "    </tr>\n",
       "    <tr>\n",
       "      <th>541</th>\n",
       "      <td>None</td>\n",
       "      <td>None</td>\n",
       "    </tr>\n",
       "  </tbody>\n",
       "</table>\n",
       "</div>"
      ],
      "text/plain": [
       "                                          fiction_work film_adaptation\n",
       "14                                                None            None\n",
       "139                                               None            None\n",
       "307                                               None            None\n",
       "315  Bicho de Sete Cabeças (The Great Brain Storm) ...            None\n",
       "541                                               None            None"
      ]
     },
     "execution_count": 12,
     "metadata": {},
     "output_type": "execute_result"
    }
   ],
   "source": [
    "nullWiki.head()"
   ]
  },
  {
   "cell_type": "markdown",
   "metadata": {},
   "source": [
    "Drop the columns with None as the value"
   ]
  },
  {
   "cell_type": "code",
   "execution_count": 13,
   "metadata": {
    "collapsed": true
   },
   "outputs": [],
   "source": [
    "wikiDF.dropna(subset=[\"film_adaptation\"],axis=0,inplace=True)"
   ]
  },
  {
   "cell_type": "code",
   "execution_count": 14,
   "metadata": {},
   "outputs": [
    {
     "data": {
      "text/plain": [
       "(1641, 2)"
      ]
     },
     "execution_count": 14,
     "metadata": {},
     "output_type": "execute_result"
    }
   ],
   "source": [
    "wikiDF.shape"
   ]
  },
  {
   "cell_type": "code",
   "execution_count": 15,
   "metadata": {
    "collapsed": true
   },
   "outputs": [],
   "source": [
    "#wikiDF[['film_adaptation','film_year']] = wikiDF['film_adaptation'].str.split('(',expand=True)\n",
    "#df[['V','allele']] = df['V'].str.split('-',expand=True)"
   ]
  },
  {
   "cell_type": "code",
   "execution_count": 16,
   "metadata": {
    "collapsed": true
   },
   "outputs": [],
   "source": [
    "def find_year(name_year):\n",
    "    return re.findall('\\s.(\\d{4})',name_year)"
   ]
  },
  {
   "cell_type": "code",
   "execution_count": 17,
   "metadata": {
    "collapsed": true
   },
   "outputs": [],
   "source": [
    "wikiDF['film_year'] = wikiDF['film_adaptation'].apply(lambda x: find_year(x))"
   ]
  },
  {
   "cell_type": "code",
   "execution_count": 18,
   "metadata": {},
   "outputs": [
    {
     "data": {
      "text/html": [
       "<div>\n",
       "<style>\n",
       "    .dataframe thead tr:only-child th {\n",
       "        text-align: right;\n",
       "    }\n",
       "\n",
       "    .dataframe thead th {\n",
       "        text-align: left;\n",
       "    }\n",
       "\n",
       "    .dataframe tbody tr th {\n",
       "        vertical-align: top;\n",
       "    }\n",
       "</style>\n",
       "<table border=\"1\" class=\"dataframe\">\n",
       "  <thead>\n",
       "    <tr style=\"text-align: right;\">\n",
       "      <th></th>\n",
       "      <th>fiction_work</th>\n",
       "      <th>film_adaptation</th>\n",
       "      <th>film_year</th>\n",
       "    </tr>\n",
       "  </thead>\n",
       "  <tbody>\n",
       "    <tr>\n",
       "      <th>0</th>\n",
       "      <td>100 Rifles (1958), Robert MacLeod</td>\n",
       "      <td>100 Rifles (1969)</td>\n",
       "      <td>[1969]</td>\n",
       "    </tr>\n",
       "    <tr>\n",
       "      <th>1</th>\n",
       "      <td>101 Reykjavík (1996), Hallgrímur Helgason</td>\n",
       "      <td>101 Reykjavík (2000)</td>\n",
       "      <td>[2000]</td>\n",
       "    </tr>\n",
       "    <tr>\n",
       "      <th>2</th>\n",
       "      <td>The 120 Days of Sodom (Les 120 journées de Sod...</td>\n",
       "      <td>Salò (1975)</td>\n",
       "      <td>[1975]</td>\n",
       "    </tr>\n",
       "    <tr>\n",
       "      <th>3</th>\n",
       "      <td>The 25th Hour (2001), David Benioff</td>\n",
       "      <td>25th Hour (2002)</td>\n",
       "      <td>[2002]</td>\n",
       "    </tr>\n",
       "    <tr>\n",
       "      <th>4</th>\n",
       "      <td>2010: Odyssey Two (1982), Arthur C. Clarke</td>\n",
       "      <td>2010 (1984)</td>\n",
       "      <td>[1984]</td>\n",
       "    </tr>\n",
       "    <tr>\n",
       "      <th>5</th>\n",
       "      <td>4.50 From Paddington (1957), Agatha Christie</td>\n",
       "      <td>Murder, She Said (1961)\\nLe crime est notre af...</td>\n",
       "      <td>[1961, 2008]</td>\n",
       "    </tr>\n",
       "    <tr>\n",
       "      <th>6</th>\n",
       "      <td>42nd Street (1930), Bradford Ropes</td>\n",
       "      <td>42nd Street (1933)</td>\n",
       "      <td>[1933]</td>\n",
       "    </tr>\n",
       "    <tr>\n",
       "      <th>7</th>\n",
       "      <td>48 Shades of Brown (1999), Nick Earls</td>\n",
       "      <td>48 Shades (2006)</td>\n",
       "      <td>[2006]</td>\n",
       "    </tr>\n",
       "    <tr>\n",
       "      <th>8</th>\n",
       "      <td>491 (1961), Lars Görling</td>\n",
       "      <td>491 (1964)</td>\n",
       "      <td>[1964]</td>\n",
       "    </tr>\n",
       "    <tr>\n",
       "      <th>9</th>\n",
       "      <td>50 Shades of Grey (2011), E.L. James</td>\n",
       "      <td>50 Shades of Grey (2015)</td>\n",
       "      <td>[2015]</td>\n",
       "    </tr>\n",
       "  </tbody>\n",
       "</table>\n",
       "</div>"
      ],
      "text/plain": [
       "                                        fiction_work  \\\n",
       "0                  100 Rifles (1958), Robert MacLeod   \n",
       "1          101 Reykjavík (1996), Hallgrímur Helgason   \n",
       "2  The 120 Days of Sodom (Les 120 journées de Sod...   \n",
       "3                The 25th Hour (2001), David Benioff   \n",
       "4         2010: Odyssey Two (1982), Arthur C. Clarke   \n",
       "5       4.50 From Paddington (1957), Agatha Christie   \n",
       "6                 42nd Street (1930), Bradford Ropes   \n",
       "7              48 Shades of Brown (1999), Nick Earls   \n",
       "8                           491 (1961), Lars Görling   \n",
       "9               50 Shades of Grey (2011), E.L. James   \n",
       "\n",
       "                                     film_adaptation     film_year  \n",
       "0                                  100 Rifles (1969)        [1969]  \n",
       "1                               101 Reykjavík (2000)        [2000]  \n",
       "2                                        Salò (1975)        [1975]  \n",
       "3                                   25th Hour (2002)        [2002]  \n",
       "4                                        2010 (1984)        [1984]  \n",
       "5  Murder, She Said (1961)\\nLe crime est notre af...  [1961, 2008]  \n",
       "6                                 42nd Street (1933)        [1933]  \n",
       "7                                   48 Shades (2006)        [2006]  \n",
       "8                                         491 (1964)        [1964]  \n",
       "9                           50 Shades of Grey (2015)        [2015]  "
      ]
     },
     "execution_count": 18,
     "metadata": {},
     "output_type": "execute_result"
    }
   ],
   "source": [
    "wikiDF.head(10)"
   ]
  },
  {
   "cell_type": "code",
   "execution_count": 19,
   "metadata": {},
   "outputs": [
    {
     "data": {
      "text/plain": [
       "['2015']"
      ]
     },
     "execution_count": 19,
     "metadata": {},
     "output_type": "execute_result"
    }
   ],
   "source": [
    "wikiDF.film_year.max()"
   ]
  },
  {
   "cell_type": "code",
   "execution_count": 20,
   "metadata": {},
   "outputs": [
    {
     "name": "stdout",
     "output_type": "stream",
     "text": [
      "<class 'pandas.core.frame.DataFrame'>\n",
      "Int64Index: 1641 entries, 0 to 1664\n",
      "Data columns (total 3 columns):\n",
      "fiction_work       1641 non-null object\n",
      "film_adaptation    1641 non-null object\n",
      "film_year          1641 non-null object\n",
      "dtypes: object(3)\n",
      "memory usage: 51.3+ KB\n"
     ]
    }
   ],
   "source": [
    "wikiDF.info()"
   ]
  },
  {
   "cell_type": "code",
   "execution_count": 21,
   "metadata": {
    "collapsed": true
   },
   "outputs": [],
   "source": [
    "wikiDF.to_csv('movie_year.csv')"
   ]
  },
  {
   "cell_type": "code",
   "execution_count": 22,
   "metadata": {
    "collapsed": true
   },
   "outputs": [],
   "source": [
    "# w['female'] = w['female'].map({'female': 1, 'male': 0})\n",
    "#wikiDF.film_year.replace(to_replace='[]',value=None,inplace=True)"
   ]
  },
  {
   "cell_type": "code",
   "execution_count": 23,
   "metadata": {},
   "outputs": [
    {
     "data": {
      "text/plain": [
       "0"
      ]
     },
     "execution_count": 23,
     "metadata": {},
     "output_type": "execute_result"
    }
   ],
   "source": [
    "len(wikiDF.film_year.min())"
   ]
  },
  {
   "cell_type": "code",
   "execution_count": 24,
   "metadata": {
    "collapsed": true
   },
   "outputs": [],
   "source": [
    "#wikiDF.dropna(subset=[\"film_year\"],axis=0,inplace=True)"
   ]
  },
  {
   "cell_type": "code",
   "execution_count": 25,
   "metadata": {
    "collapsed": true
   },
   "outputs": [],
   "source": [
    "#wikiDF.film_year.min()"
   ]
  },
  {
   "cell_type": "code",
   "execution_count": 26,
   "metadata": {
    "collapsed": true
   },
   "outputs": [],
   "source": [
    "# def drop_empty_list(elist):\n",
    "#     if len(elist) == 0:\n",
    "#         return None"
   ]
  },
  {
   "cell_type": "code",
   "execution_count": 27,
   "metadata": {
    "collapsed": true
   },
   "outputs": [],
   "source": [
    "# wikiDF['film_year'] = wikiDF['film_year'].apply(lambda x: drop_empty_list(x))"
   ]
  },
  {
   "cell_type": "code",
   "execution_count": 28,
   "metadata": {},
   "outputs": [
    {
     "data": {
      "text/plain": [
       "0"
      ]
     },
     "execution_count": 28,
     "metadata": {},
     "output_type": "execute_result"
    }
   ],
   "source": [
    "wikiDF.film_year.isnull().sum()"
   ]
  },
  {
   "cell_type": "code",
   "execution_count": null,
   "metadata": {
    "collapsed": true
   },
   "outputs": [],
   "source": []
  }
 ],
 "metadata": {
  "kernelspec": {
   "display_name": "Python 3",
   "language": "python",
   "name": "python3"
  },
  "language_info": {
   "codemirror_mode": {
    "name": "ipython",
    "version": 3
   },
   "file_extension": ".py",
   "mimetype": "text/x-python",
   "name": "python",
   "nbconvert_exporter": "python",
   "pygments_lexer": "ipython3",
   "version": "3.6.2"
  }
 },
 "nbformat": 4,
 "nbformat_minor": 2
}
