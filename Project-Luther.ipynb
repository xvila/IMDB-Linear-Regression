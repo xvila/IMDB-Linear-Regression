{
 "cells": [
  {
   "cell_type": "code",
   "execution_count": 135,
   "metadata": {
    "collapsed": true
   },
   "outputs": [],
   "source": [
    "import pandas as pd\n",
    "import requests\n",
    "from bs4 import BeautifulSoup\n",
    "import re\n",
    "import json\n",
    "import numpy as np\n",
    "from datetime import datetime\n",
    "\n",
    "%matplotlib inline\n",
    "import matplotlib.pyplot as plt\n",
    "import seaborn as sns\n",
    "import pydotplus"
   ]
  },
  {
   "cell_type": "markdown",
   "metadata": {},
   "source": [
    "### Wikipedia"
   ]
  },
  {
   "cell_type": "code",
   "execution_count": 62,
   "metadata": {
    "collapsed": true
   },
   "outputs": [],
   "source": [
    "urls = ['https://en.wikipedia.org/wiki/List_of_fiction_works_made_into_feature_films_(0%E2%80%939_and_A%E2%80%93C)',\n",
    "       'https://en.wikipedia.org/wiki/List_of_fiction_works_made_into_feature_films_(D%E2%80%93J)',\n",
    "       'https://en.wikipedia.org/wiki/List_of_fiction_works_made_into_feature_films_(K%E2%80%93R)',\n",
    "       'https://en.wikipedia.org/wiki/List_of_fiction_works_made_into_feature_films_(S%E2%80%93Z)']"
   ]
  },
  {
   "cell_type": "markdown",
   "metadata": {},
   "source": [
    "Scrape Wikipedia for works of fiction that have been turned into feature films"
   ]
  },
  {
   "cell_type": "code",
   "execution_count": 63,
   "metadata": {
    "collapsed": true
   },
   "outputs": [],
   "source": [
    "def return_dataframe(url):\n",
    "    '''Takes in a url from the wikipedia \"List of Fiction Works Made into \n",
    "    Feature Films\", scrapes the page and returns a dataframe.\n",
    "    '''\n",
    "    response = requests.get(url)\n",
    "    responsePage = response.text\n",
    "    soup = BeautifulSoup(responsePage,'html.parser')\n",
    "    \n",
    "    bookMovie = []\n",
    "    for tr in soup.find_all('tr')[2:]:\n",
    "        if tr == 'NoneType':\n",
    "            next\n",
    "        else:\n",
    "            cols = tr.find_all('td')\n",
    "            x = []\n",
    "            for td in cols:\n",
    "                x.append(td.text)\n",
    "            bookMovie.append(x)\n",
    "    \n",
    "    df = pd.DataFrame(bookMovie,columns=['fiction_work','film_adaptation'])\n",
    "    return df"
   ]
  },
  {
   "cell_type": "code",
   "execution_count": 64,
   "metadata": {
    "collapsed": true
   },
   "outputs": [],
   "source": [
    "wikiDF = pd.DataFrame()"
   ]
  },
  {
   "cell_type": "code",
   "execution_count": 65,
   "metadata": {},
   "outputs": [
    {
     "name": "stdout",
     "output_type": "stream",
     "text": [
      "                                fiction_work       film_adaptation\n",
      "0          100 Rifles (1958), Robert MacLeod     100 Rifles (1969)\n",
      "1  101 Reykjavík (1996), Hallgrímur Helgason  101 Reykjavík (2000)\n",
      "                          fiction_work           film_adaptation\n",
      "0  The Da Vinci Code (2003), Dan Brown  The Da Vinci Code (2006)\n",
      "1          Dad (1981), William Wharton                Dad (1989)\n",
      "  fiction_work                                    film_adaptation\n",
      "0         \\n\\n  This article does not cite any sources. Please...\n",
      "1         None                                               None\n",
      "                                     fiction_work  \\\n",
      "0  The Saga of Pecos Bill (1923), Edward O'Reilly   \n",
      "1                    Sahara (1992), Clive Cussler   \n",
      "\n",
      "                        film_adaptation  \n",
      "0  Melody Time (1948)\\nTall Tale (1995)  \n",
      "1                         Sahara (2005)  \n"
     ]
    }
   ],
   "source": [
    "for url in urls:\n",
    "    df = return_dataframe(url)\n",
    "    print(df.head(2))\n",
    "    wikiDF = wikiDF.append(df,ignore_index=True)"
   ]
  },
  {
   "cell_type": "code",
   "execution_count": 66,
   "metadata": {},
   "outputs": [
    {
     "data": {
      "text/html": [
       "<div>\n",
       "<style>\n",
       "    .dataframe thead tr:only-child th {\n",
       "        text-align: right;\n",
       "    }\n",
       "\n",
       "    .dataframe thead th {\n",
       "        text-align: left;\n",
       "    }\n",
       "\n",
       "    .dataframe tbody tr th {\n",
       "        vertical-align: top;\n",
       "    }\n",
       "</style>\n",
       "<table border=\"1\" class=\"dataframe\">\n",
       "  <thead>\n",
       "    <tr style=\"text-align: right;\">\n",
       "      <th></th>\n",
       "      <th>fiction_work</th>\n",
       "      <th>film_adaptation</th>\n",
       "    </tr>\n",
       "  </thead>\n",
       "  <tbody>\n",
       "    <tr>\n",
       "      <th>0</th>\n",
       "      <td>100 Rifles (1958), Robert MacLeod</td>\n",
       "      <td>100 Rifles (1969)</td>\n",
       "    </tr>\n",
       "    <tr>\n",
       "      <th>1</th>\n",
       "      <td>101 Reykjavík (1996), Hallgrímur Helgason</td>\n",
       "      <td>101 Reykjavík (2000)</td>\n",
       "    </tr>\n",
       "    <tr>\n",
       "      <th>2</th>\n",
       "      <td>The 120 Days of Sodom (Les 120 journées de Sod...</td>\n",
       "      <td>Salò (1975)</td>\n",
       "    </tr>\n",
       "    <tr>\n",
       "      <th>3</th>\n",
       "      <td>The 25th Hour (2001), David Benioff</td>\n",
       "      <td>25th Hour (2002)</td>\n",
       "    </tr>\n",
       "    <tr>\n",
       "      <th>4</th>\n",
       "      <td>2010: Odyssey Two (1982), Arthur C. Clarke</td>\n",
       "      <td>2010 (1984)</td>\n",
       "    </tr>\n",
       "  </tbody>\n",
       "</table>\n",
       "</div>"
      ],
      "text/plain": [
       "                                        fiction_work       film_adaptation\n",
       "0                  100 Rifles (1958), Robert MacLeod     100 Rifles (1969)\n",
       "1          101 Reykjavík (1996), Hallgrímur Helgason  101 Reykjavík (2000)\n",
       "2  The 120 Days of Sodom (Les 120 journées de Sod...           Salò (1975)\n",
       "3                The 25th Hour (2001), David Benioff      25th Hour (2002)\n",
       "4         2010: Odyssey Two (1982), Arthur C. Clarke           2010 (1984)"
      ]
     },
     "execution_count": 66,
     "metadata": {},
     "output_type": "execute_result"
    }
   ],
   "source": [
    "wikiDF.head()"
   ]
  },
  {
   "cell_type": "code",
   "execution_count": 67,
   "metadata": {},
   "outputs": [
    {
     "data": {
      "text/plain": [
       "(1665, 2)"
      ]
     },
     "execution_count": 67,
     "metadata": {},
     "output_type": "execute_result"
    }
   ],
   "source": [
    "wikiDF.shape"
   ]
  },
  {
   "cell_type": "code",
   "execution_count": 68,
   "metadata": {
    "collapsed": true
   },
   "outputs": [],
   "source": [
    "nullWiki = wikiDF[wikiDF.film_adaptation.isnull()]"
   ]
  },
  {
   "cell_type": "code",
   "execution_count": 69,
   "metadata": {},
   "outputs": [
    {
     "data": {
      "text/plain": [
       "(24, 2)"
      ]
     },
     "execution_count": 69,
     "metadata": {},
     "output_type": "execute_result"
    }
   ],
   "source": [
    "nullWiki.shape"
   ]
  },
  {
   "cell_type": "code",
   "execution_count": 70,
   "metadata": {},
   "outputs": [
    {
     "data": {
      "text/html": [
       "<div>\n",
       "<style>\n",
       "    .dataframe thead tr:only-child th {\n",
       "        text-align: right;\n",
       "    }\n",
       "\n",
       "    .dataframe thead th {\n",
       "        text-align: left;\n",
       "    }\n",
       "\n",
       "    .dataframe tbody tr th {\n",
       "        vertical-align: top;\n",
       "    }\n",
       "</style>\n",
       "<table border=\"1\" class=\"dataframe\">\n",
       "  <thead>\n",
       "    <tr style=\"text-align: right;\">\n",
       "      <th></th>\n",
       "      <th>fiction_work</th>\n",
       "      <th>film_adaptation</th>\n",
       "    </tr>\n",
       "  </thead>\n",
       "  <tbody>\n",
       "    <tr>\n",
       "      <th>14</th>\n",
       "      <td>None</td>\n",
       "      <td>None</td>\n",
       "    </tr>\n",
       "    <tr>\n",
       "      <th>139</th>\n",
       "      <td>None</td>\n",
       "      <td>None</td>\n",
       "    </tr>\n",
       "    <tr>\n",
       "      <th>307</th>\n",
       "      <td>None</td>\n",
       "      <td>None</td>\n",
       "    </tr>\n",
       "    <tr>\n",
       "      <th>315</th>\n",
       "      <td>Bicho de Sete Cabeças (The Great Brain Storm) ...</td>\n",
       "      <td>None</td>\n",
       "    </tr>\n",
       "    <tr>\n",
       "      <th>541</th>\n",
       "      <td>None</td>\n",
       "      <td>None</td>\n",
       "    </tr>\n",
       "  </tbody>\n",
       "</table>\n",
       "</div>"
      ],
      "text/plain": [
       "                                          fiction_work film_adaptation\n",
       "14                                                None            None\n",
       "139                                               None            None\n",
       "307                                               None            None\n",
       "315  Bicho de Sete Cabeças (The Great Brain Storm) ...            None\n",
       "541                                               None            None"
      ]
     },
     "execution_count": 70,
     "metadata": {},
     "output_type": "execute_result"
    }
   ],
   "source": [
    "nullWiki.head()"
   ]
  },
  {
   "cell_type": "markdown",
   "metadata": {},
   "source": [
    "Drop the columns with None as the value"
   ]
  },
  {
   "cell_type": "code",
   "execution_count": 71,
   "metadata": {
    "collapsed": true
   },
   "outputs": [],
   "source": [
    "wikiDF.dropna(subset=[\"film_adaptation\"],axis=0,inplace=True)"
   ]
  },
  {
   "cell_type": "code",
   "execution_count": 72,
   "metadata": {},
   "outputs": [
    {
     "data": {
      "text/plain": [
       "(1641, 2)"
      ]
     },
     "execution_count": 72,
     "metadata": {},
     "output_type": "execute_result"
    }
   ],
   "source": [
    "wikiDF.shape"
   ]
  },
  {
   "cell_type": "code",
   "execution_count": 73,
   "metadata": {
    "collapsed": true
   },
   "outputs": [],
   "source": [
    "#wikiDF[['film_adaptation','film_year']] = wikiDF['film_adaptation'].str.split('(',expand=True)\n",
    "#df[['V','allele']] = df['V'].str.split('-',expand=True)"
   ]
  },
  {
   "cell_type": "code",
   "execution_count": 74,
   "metadata": {
    "collapsed": true
   },
   "outputs": [],
   "source": [
    "# def find_year(name_year):\n",
    "#     return re.findall('\\s.(\\d{4})',name_year)"
   ]
  },
  {
   "cell_type": "code",
   "execution_count": 75,
   "metadata": {
    "collapsed": true
   },
   "outputs": [],
   "source": [
    "# wikiDF['film_year'] = wikiDF['film_adaptation'].apply(lambda x: find_year(x))"
   ]
  },
  {
   "cell_type": "code",
   "execution_count": 76,
   "metadata": {
    "collapsed": true
   },
   "outputs": [],
   "source": [
    "# wikiDF.head(10)"
   ]
  },
  {
   "cell_type": "code",
   "execution_count": 77,
   "metadata": {
    "collapsed": true
   },
   "outputs": [],
   "source": [
    "# Split multiple books into separate rows\n",
    "fiction_series = wikiDF['fiction_work'].str.split('\\n').apply(pd.Series,1).stack()\n",
    "fiction_series.index = fiction_series.index.droplevel(-1)\n",
    "fiction_series.name = 'fiction_work'"
   ]
  },
  {
   "cell_type": "code",
   "execution_count": 78,
   "metadata": {},
   "outputs": [
    {
     "data": {
      "text/plain": [
       "(1741,)"
      ]
     },
     "execution_count": 78,
     "metadata": {},
     "output_type": "execute_result"
    }
   ],
   "source": [
    "fiction_series.shape"
   ]
  },
  {
   "cell_type": "code",
   "execution_count": 80,
   "metadata": {
    "collapsed": true
   },
   "outputs": [],
   "source": [
    "# Split multiple movies into separate rows\n",
    "film_series = wikiDF['film_adaptation'].str.split('\\n').apply(pd.Series,1).stack()\n",
    "film_series.index = film_series.index.droplevel(-1)\n",
    "film_series.name = 'film_adaptation'"
   ]
  },
  {
   "cell_type": "code",
   "execution_count": 81,
   "metadata": {},
   "outputs": [
    {
     "data": {
      "text/plain": [
       "(3265,)"
      ]
     },
     "execution_count": 81,
     "metadata": {},
     "output_type": "execute_result"
    }
   ],
   "source": [
    "film_series.shape"
   ]
  },
  {
   "cell_type": "code",
   "execution_count": 82,
   "metadata": {
    "collapsed": true
   },
   "outputs": [],
   "source": [
    "wikiDF.drop(['film_adaptation','fiction_work'],axis=1,inplace=True)"
   ]
  },
  {
   "cell_type": "code",
   "execution_count": 83,
   "metadata": {},
   "outputs": [
    {
     "data": {
      "text/plain": [
       "764                    Harry Potter (2001–2011) (series)\n",
       "764      Harry Potter and the Philosopher's Stone (2001)\n",
       "764     * Harry Potter and the Chamber of Secrets (2002)\n",
       "764    ** Harry Potter and the Prisoner of Azkaban (2...\n",
       "764      ** * Harry Potter and the Goblet of Fire (2005)\n",
       "764    ** ** Harry Potter and the Order of the Phoeni...\n",
       "764    ** ** * Harry Potter and the Half-Blood Prince...\n",
       "764    ** ** ** Harry Potter and the Deathly Hallows ...\n",
       "764    ** ** ** Harry Potter and the Deathly Hallows ...\n",
       "Name: film_adaptation, dtype: object"
      ]
     },
     "execution_count": 83,
     "metadata": {},
     "output_type": "execute_result"
    }
   ],
   "source": [
    "film_series[film_series.str.contains('Harry Potter')]\n",
    "#wikiDF[wikiDF['fiction_work'].str.contains('Harry Potter')]"
   ]
  },
  {
   "cell_type": "code",
   "execution_count": 84,
   "metadata": {},
   "outputs": [
    {
     "data": {
      "text/plain": [
       "764     Harry Potter (1997–2007) (series), J. K. Rowling\n",
       "764      Harry Potter and the Philosopher's Stone (1997)\n",
       "764     * Harry Potter and the Chamber of Secrets (1998)\n",
       "764    ** Harry Potter and the Prisoner of Azkaban (1...\n",
       "764      ** * Harry Potter and the Goblet of Fire (2000)\n",
       "764    ** ** Harry Potter and the Order of the Phoeni...\n",
       "764    ** ** * Harry Potter and the Half-Blood Prince...\n",
       "764    ** ** ** Harry Potter and the Deathly Hallows ...\n",
       "Name: fiction_work, dtype: object"
      ]
     },
     "execution_count": 84,
     "metadata": {},
     "output_type": "execute_result"
    }
   ],
   "source": [
    "fiction_series[fiction_series.str.contains('Harry Potter')]\n",
    "#wikiDF[wikiDF['fiction_work'].str.contains('Harry Potter')]"
   ]
  },
  {
   "cell_type": "markdown",
   "metadata": {},
   "source": [
    "convert both series to dataframes, create a key of index + name and then join them back together"
   ]
  },
  {
   "cell_type": "code",
   "execution_count": 85,
   "metadata": {
    "collapsed": true
   },
   "outputs": [],
   "source": [
    "filmDF = pd.DataFrame(film_series)"
   ]
  },
  {
   "cell_type": "code",
   "execution_count": 86,
   "metadata": {
    "collapsed": true
   },
   "outputs": [],
   "source": [
    "fictionDF = pd.DataFrame(fiction_series)"
   ]
  },
  {
   "cell_type": "code",
   "execution_count": 87,
   "metadata": {},
   "outputs": [
    {
     "data": {
      "text/html": [
       "<div>\n",
       "<style>\n",
       "    .dataframe thead tr:only-child th {\n",
       "        text-align: right;\n",
       "    }\n",
       "\n",
       "    .dataframe thead th {\n",
       "        text-align: left;\n",
       "    }\n",
       "\n",
       "    .dataframe tbody tr th {\n",
       "        vertical-align: top;\n",
       "    }\n",
       "</style>\n",
       "<table border=\"1\" class=\"dataframe\">\n",
       "  <thead>\n",
       "    <tr style=\"text-align: right;\">\n",
       "      <th></th>\n",
       "      <th>film_adaptation</th>\n",
       "    </tr>\n",
       "  </thead>\n",
       "  <tbody>\n",
       "    <tr>\n",
       "      <th>0</th>\n",
       "      <td>100 Rifles (1969)</td>\n",
       "    </tr>\n",
       "    <tr>\n",
       "      <th>1</th>\n",
       "      <td>101 Reykjavík (2000)</td>\n",
       "    </tr>\n",
       "    <tr>\n",
       "      <th>2</th>\n",
       "      <td>Salò (1975)</td>\n",
       "    </tr>\n",
       "    <tr>\n",
       "      <th>3</th>\n",
       "      <td>25th Hour (2002)</td>\n",
       "    </tr>\n",
       "    <tr>\n",
       "      <th>4</th>\n",
       "      <td>2010 (1984)</td>\n",
       "    </tr>\n",
       "  </tbody>\n",
       "</table>\n",
       "</div>"
      ],
      "text/plain": [
       "        film_adaptation\n",
       "0     100 Rifles (1969)\n",
       "1  101 Reykjavík (2000)\n",
       "2           Salò (1975)\n",
       "3      25th Hour (2002)\n",
       "4           2010 (1984)"
      ]
     },
     "execution_count": 87,
     "metadata": {},
     "output_type": "execute_result"
    }
   ],
   "source": [
    "filmDF.head()"
   ]
  },
  {
   "cell_type": "code",
   "execution_count": 144,
   "metadata": {
    "collapsed": true
   },
   "outputs": [],
   "source": [
    "filmDF['key'] = str(filmDF.index.get_level_values(0).values)"
   ]
  },
  {
   "cell_type": "code",
   "execution_count": 145,
   "metadata": {
    "collapsed": true
   },
   "outputs": [],
   "source": [
    "filmDF['key'] = filmDF.apply(lambda x: x.index.get_level_values(0).values)"
   ]
  },
  {
   "cell_type": "code",
   "execution_count": 146,
   "metadata": {
    "collapsed": true
   },
   "outputs": [],
   "source": [
    "#filmDF['key'] = str(filmDF['key']) + '_' + filmDF['film_adaptation']"
   ]
  },
  {
   "cell_type": "code",
   "execution_count": 149,
   "metadata": {},
   "outputs": [
    {
     "data": {
      "text/plain": [
       "0          0\n",
       "1          1\n",
       "2          2\n",
       "3          3\n",
       "4          4\n",
       "5          5\n",
       "5          5\n",
       "6          6\n",
       "7          7\n",
       "8          8\n",
       "9          9\n",
       "10        10\n",
       "11        11\n",
       "11        11\n",
       "12        12\n",
       "13        13\n",
       "15        15\n",
       "15        15\n",
       "16        16\n",
       "17        17\n",
       "18        18\n",
       "19        19\n",
       "20        20\n",
       "21        21\n",
       "22        22\n",
       "23        23\n",
       "24        24\n",
       "25        25\n",
       "26        26\n",
       "27        27\n",
       "        ... \n",
       "1637    1637\n",
       "1638    1638\n",
       "1639    1639\n",
       "1639    1639\n",
       "1639    1639\n",
       "1639    1639\n",
       "1639    1639\n",
       "1640    1640\n",
       "1642    1642\n",
       "1643    1643\n",
       "1644    1644\n",
       "1645    1645\n",
       "1646    1646\n",
       "1647    1647\n",
       "1648    1648\n",
       "1649    1649\n",
       "1650    1650\n",
       "1651    1651\n",
       "1652    1652\n",
       "1653    1653\n",
       "1654    1654\n",
       "1655    1655\n",
       "1657    1657\n",
       "1658    1658\n",
       "1659    1659\n",
       "1660    1660\n",
       "1661    1661\n",
       "1662    1662\n",
       "1663    1663\n",
       "1664    1664\n",
       "Name: key, Length: 3265, dtype: object"
      ]
     },
     "execution_count": 149,
     "metadata": {},
     "output_type": "execute_result"
    }
   ],
   "source": [
    "filmDF.key.astype('str',inplace=True)"
   ]
  },
  {
   "cell_type": "code",
   "execution_count": 155,
   "metadata": {
    "collapsed": true
   },
   "outputs": [],
   "source": [
    "filmDF['film_adaptation'] = filmDF.film_adaptation.apply(lambda x: x.strip())"
   ]
  },
  {
   "cell_type": "code",
   "execution_count": 156,
   "metadata": {},
   "outputs": [
    {
     "data": {
      "text/html": [
       "<div>\n",
       "<style>\n",
       "    .dataframe thead tr:only-child th {\n",
       "        text-align: right;\n",
       "    }\n",
       "\n",
       "    .dataframe thead th {\n",
       "        text-align: left;\n",
       "    }\n",
       "\n",
       "    .dataframe tbody tr th {\n",
       "        vertical-align: top;\n",
       "    }\n",
       "</style>\n",
       "<table border=\"1\" class=\"dataframe\">\n",
       "  <thead>\n",
       "    <tr style=\"text-align: right;\">\n",
       "      <th></th>\n",
       "      <th>film_adaptation</th>\n",
       "      <th>key</th>\n",
       "    </tr>\n",
       "  </thead>\n",
       "  <tbody>\n",
       "    <tr>\n",
       "      <th>0</th>\n",
       "      <td>100 Rifles (1969)</td>\n",
       "      <td>0</td>\n",
       "    </tr>\n",
       "    <tr>\n",
       "      <th>1</th>\n",
       "      <td>101 Reykjavík (2000)</td>\n",
       "      <td>1</td>\n",
       "    </tr>\n",
       "    <tr>\n",
       "      <th>2</th>\n",
       "      <td>Salò (1975)</td>\n",
       "      <td>2</td>\n",
       "    </tr>\n",
       "    <tr>\n",
       "      <th>3</th>\n",
       "      <td>25th Hour (2002)</td>\n",
       "      <td>3</td>\n",
       "    </tr>\n",
       "    <tr>\n",
       "      <th>4</th>\n",
       "      <td>2010 (1984)</td>\n",
       "      <td>4</td>\n",
       "    </tr>\n",
       "  </tbody>\n",
       "</table>\n",
       "</div>"
      ],
      "text/plain": [
       "        film_adaptation  key\n",
       "0     100 Rifles (1969)    0\n",
       "1  101 Reykjavík (2000)    1\n",
       "2           Salò (1975)    2\n",
       "3      25th Hour (2002)    3\n",
       "4           2010 (1984)    4"
      ]
     },
     "execution_count": 156,
     "metadata": {},
     "output_type": "execute_result"
    }
   ],
   "source": [
    "filmDF.head()"
   ]
  },
  {
   "cell_type": "code",
   "execution_count": 159,
   "metadata": {
    "collapsed": true
   },
   "outputs": [],
   "source": [
    "filmDF['key'] = str(filmDF['key'])+ '_' + filmDF['film_adaptation']"
   ]
  },
  {
   "cell_type": "code",
   "execution_count": 160,
   "metadata": {},
   "outputs": [
    {
     "data": {
      "text/html": [
       "<div>\n",
       "<style>\n",
       "    .dataframe thead tr:only-child th {\n",
       "        text-align: right;\n",
       "    }\n",
       "\n",
       "    .dataframe thead th {\n",
       "        text-align: left;\n",
       "    }\n",
       "\n",
       "    .dataframe tbody tr th {\n",
       "        vertical-align: top;\n",
       "    }\n",
       "</style>\n",
       "<table border=\"1\" class=\"dataframe\">\n",
       "  <thead>\n",
       "    <tr style=\"text-align: right;\">\n",
       "      <th></th>\n",
       "      <th>film_adaptation</th>\n",
       "      <th>key</th>\n",
       "    </tr>\n",
       "  </thead>\n",
       "  <tbody>\n",
       "    <tr>\n",
       "      <th>0</th>\n",
       "      <td>100 Rifles (1969)</td>\n",
       "      <td>0          0\\n1          1\\n2          2\\n3   ...</td>\n",
       "    </tr>\n",
       "    <tr>\n",
       "      <th>1</th>\n",
       "      <td>101 Reykjavík (2000)</td>\n",
       "      <td>0          0\\n1          1\\n2          2\\n3   ...</td>\n",
       "    </tr>\n",
       "    <tr>\n",
       "      <th>2</th>\n",
       "      <td>Salò (1975)</td>\n",
       "      <td>0          0\\n1          1\\n2          2\\n3   ...</td>\n",
       "    </tr>\n",
       "    <tr>\n",
       "      <th>3</th>\n",
       "      <td>25th Hour (2002)</td>\n",
       "      <td>0          0\\n1          1\\n2          2\\n3   ...</td>\n",
       "    </tr>\n",
       "    <tr>\n",
       "      <th>4</th>\n",
       "      <td>2010 (1984)</td>\n",
       "      <td>0          0\\n1          1\\n2          2\\n3   ...</td>\n",
       "    </tr>\n",
       "    <tr>\n",
       "      <th>5</th>\n",
       "      <td>Murder, She Said (1961)</td>\n",
       "      <td>0          0\\n1          1\\n2          2\\n3   ...</td>\n",
       "    </tr>\n",
       "    <tr>\n",
       "      <th>5</th>\n",
       "      <td>Le crime est notre affaire (2008)</td>\n",
       "      <td>0          0\\n1          1\\n2          2\\n3   ...</td>\n",
       "    </tr>\n",
       "    <tr>\n",
       "      <th>6</th>\n",
       "      <td>42nd Street (1933)</td>\n",
       "      <td>0          0\\n1          1\\n2          2\\n3   ...</td>\n",
       "    </tr>\n",
       "    <tr>\n",
       "      <th>7</th>\n",
       "      <td>48 Shades (2006)</td>\n",
       "      <td>0          0\\n1          1\\n2          2\\n3   ...</td>\n",
       "    </tr>\n",
       "    <tr>\n",
       "      <th>8</th>\n",
       "      <td>491 (1964)</td>\n",
       "      <td>0          0\\n1          1\\n2          2\\n3   ...</td>\n",
       "    </tr>\n",
       "    <tr>\n",
       "      <th>9</th>\n",
       "      <td>50 Shades of Grey (2015)</td>\n",
       "      <td>0          0\\n1          1\\n2          2\\n3   ...</td>\n",
       "    </tr>\n",
       "    <tr>\n",
       "      <th>10</th>\n",
       "      <td>50 Ways of Saying Fabulous (2005)</td>\n",
       "      <td>0          0\\n1          1\\n2          2\\n3   ...</td>\n",
       "    </tr>\n",
       "    <tr>\n",
       "      <th>11</th>\n",
       "      <td>The Ambassador (1984)</td>\n",
       "      <td>0          0\\n1          1\\n2          2\\n3   ...</td>\n",
       "    </tr>\n",
       "    <tr>\n",
       "      <th>11</th>\n",
       "      <td>52 Pick-Up (1986)</td>\n",
       "      <td>0          0\\n1          1\\n2          2\\n3   ...</td>\n",
       "    </tr>\n",
       "    <tr>\n",
       "      <th>12</th>\n",
       "      <td>Die Hard 2 (1990)</td>\n",
       "      <td>0          0\\n1          1\\n2          2\\n3   ...</td>\n",
       "    </tr>\n",
       "    <tr>\n",
       "      <th>13</th>\n",
       "      <td>633 Squadron (1964)</td>\n",
       "      <td>0          0\\n1          1\\n2          2\\n3   ...</td>\n",
       "    </tr>\n",
       "    <tr>\n",
       "      <th>15</th>\n",
       "      <td>The Alphabet Murders (1966)</td>\n",
       "      <td>0          0\\n1          1\\n2          2\\n3   ...</td>\n",
       "    </tr>\n",
       "    <tr>\n",
       "      <th>15</th>\n",
       "      <td>The A.B.C. Murders (1992) (TV)</td>\n",
       "      <td>0          0\\n1          1\\n2          2\\n3   ...</td>\n",
       "    </tr>\n",
       "    <tr>\n",
       "      <th>16</th>\n",
       "      <td>À ton image (2004)</td>\n",
       "      <td>0          0\\n1          1\\n2          2\\n3   ...</td>\n",
       "    </tr>\n",
       "    <tr>\n",
       "      <th>17</th>\n",
       "      <td>The Assault (1986)</td>\n",
       "      <td>0          0\\n1          1\\n2          2\\n3   ...</td>\n",
       "    </tr>\n",
       "    <tr>\n",
       "      <th>18</th>\n",
       "      <td>About a Boy (2002)</td>\n",
       "      <td>0          0\\n1          1\\n2          2\\n3   ...</td>\n",
       "    </tr>\n",
       "    <tr>\n",
       "      <th>19</th>\n",
       "      <td>About Schmidt (2002)</td>\n",
       "      <td>0          0\\n1          1\\n2          2\\n3   ...</td>\n",
       "    </tr>\n",
       "    <tr>\n",
       "      <th>20</th>\n",
       "      <td>Absolute Power (1997)</td>\n",
       "      <td>0          0\\n1          1\\n2          2\\n3   ...</td>\n",
       "    </tr>\n",
       "    <tr>\n",
       "      <th>21</th>\n",
       "      <td>The Accidental Tourist (1988)</td>\n",
       "      <td>0          0\\n1          1\\n2          2\\n3   ...</td>\n",
       "    </tr>\n",
       "    <tr>\n",
       "      <th>22</th>\n",
       "      <td>Across 110th Street (1972)</td>\n",
       "      <td>0          0\\n1          1\\n2          2\\n3   ...</td>\n",
       "    </tr>\n",
       "    <tr>\n",
       "      <th>23</th>\n",
       "      <td>Adam Resurrected (2009)</td>\n",
       "      <td>0          0\\n1          1\\n2          2\\n3   ...</td>\n",
       "    </tr>\n",
       "    <tr>\n",
       "      <th>24</th>\n",
       "      <td>Abandon (2002)</td>\n",
       "      <td>0          0\\n1          1\\n2          2\\n3   ...</td>\n",
       "    </tr>\n",
       "    <tr>\n",
       "      <th>25</th>\n",
       "      <td>Paper Moon (1973)</td>\n",
       "      <td>0          0\\n1          1\\n2          2\\n3   ...</td>\n",
       "    </tr>\n",
       "    <tr>\n",
       "      <th>26</th>\n",
       "      <td>Green Tea (2003)</td>\n",
       "      <td>0          0\\n1          1\\n2          2\\n3   ...</td>\n",
       "    </tr>\n",
       "    <tr>\n",
       "      <th>27</th>\n",
       "      <td>Adolphe (2002)</td>\n",
       "      <td>0          0\\n1          1\\n2          2\\n3   ...</td>\n",
       "    </tr>\n",
       "    <tr>\n",
       "      <th>...</th>\n",
       "      <td>...</td>\n",
       "      <td>...</td>\n",
       "    </tr>\n",
       "    <tr>\n",
       "      <th>1637</th>\n",
       "      <td>The Wreck of the Mary Deare (1959)</td>\n",
       "      <td>0          0\\n1          1\\n2          2\\n3   ...</td>\n",
       "    </tr>\n",
       "    <tr>\n",
       "      <th>1638</th>\n",
       "      <td>The Wrong Box (1966)</td>\n",
       "      <td>0          0\\n1          1\\n2          2\\n3   ...</td>\n",
       "    </tr>\n",
       "    <tr>\n",
       "      <th>1639</th>\n",
       "      <td>Wuthering Heights (1939)</td>\n",
       "      <td>0          0\\n1          1\\n2          2\\n3   ...</td>\n",
       "    </tr>\n",
       "    <tr>\n",
       "      <th>1639</th>\n",
       "      <td>Abismos de Pasión (1954)</td>\n",
       "      <td>0          0\\n1          1\\n2          2\\n3   ...</td>\n",
       "    </tr>\n",
       "    <tr>\n",
       "      <th>1639</th>\n",
       "      <td>Wuthering Heights (1970)</td>\n",
       "      <td>0          0\\n1          1\\n2          2\\n3   ...</td>\n",
       "    </tr>\n",
       "    <tr>\n",
       "      <th>1639</th>\n",
       "      <td>Emily Brontë's Wuthering Heights (1992)</td>\n",
       "      <td>0          0\\n1          1\\n2          2\\n3   ...</td>\n",
       "    </tr>\n",
       "    <tr>\n",
       "      <th>1639</th>\n",
       "      <td>Wuthering Heights (2003)</td>\n",
       "      <td>0          0\\n1          1\\n2          2\\n3   ...</td>\n",
       "    </tr>\n",
       "    <tr>\n",
       "      <th>1640</th>\n",
       "      <td>The Warriors (1979)</td>\n",
       "      <td>0          0\\n1          1\\n2          2\\n3   ...</td>\n",
       "    </tr>\n",
       "    <tr>\n",
       "      <th>1642</th>\n",
       "      <td>Youth of the Beast (1963)</td>\n",
       "      <td>0          0\\n1          1\\n2          2\\n3   ...</td>\n",
       "    </tr>\n",
       "    <tr>\n",
       "      <th>1643</th>\n",
       "      <td>The Year of Living Dangerously (1982)</td>\n",
       "      <td>0          0\\n1          1\\n2          2\\n3   ...</td>\n",
       "    </tr>\n",
       "    <tr>\n",
       "      <th>1644</th>\n",
       "      <td>Night of the Lepus (1972)</td>\n",
       "      <td>0          0\\n1          1\\n2          2\\n3   ...</td>\n",
       "    </tr>\n",
       "    <tr>\n",
       "      <th>1645</th>\n",
       "      <td>The Horse in the Gray Flannel Suit (1968)</td>\n",
       "      <td>0          0\\n1          1\\n2          2\\n3   ...</td>\n",
       "    </tr>\n",
       "    <tr>\n",
       "      <th>1646</th>\n",
       "      <td>Yellowstone Kelly (1959)</td>\n",
       "      <td>0          0\\n1          1\\n2          2\\n3   ...</td>\n",
       "    </tr>\n",
       "    <tr>\n",
       "      <th>1647</th>\n",
       "      <td>Eyes Without a Face (1960)</td>\n",
       "      <td>0          0\\n1          1\\n2          2\\n3   ...</td>\n",
       "    </tr>\n",
       "    <tr>\n",
       "      <th>1648</th>\n",
       "      <td>Yield to the Night (1956)</td>\n",
       "      <td>0          0\\n1          1\\n2          2\\n3   ...</td>\n",
       "    </tr>\n",
       "    <tr>\n",
       "      <th>1649</th>\n",
       "      <td>Whore (2004)</td>\n",
       "      <td>0          0\\n1          1\\n2          2\\n3   ...</td>\n",
       "    </tr>\n",
       "    <tr>\n",
       "      <th>1650</th>\n",
       "      <td>You Only Live Twice (1967)</td>\n",
       "      <td>0          0\\n1          1\\n2          2\\n3   ...</td>\n",
       "    </tr>\n",
       "    <tr>\n",
       "      <th>1651</th>\n",
       "      <td>Guilt Is My Shadow (1950)</td>\n",
       "      <td>0          0\\n1          1\\n2          2\\n3   ...</td>\n",
       "    </tr>\n",
       "    <tr>\n",
       "      <th>1652</th>\n",
       "      <td>Your Ticket Is No Longer Valid (1981)</td>\n",
       "      <td>0          0\\n1          1\\n2          2\\n3   ...</td>\n",
       "    </tr>\n",
       "    <tr>\n",
       "      <th>1653</th>\n",
       "      <td>Young Adam (2003)</td>\n",
       "      <td>0          0\\n1          1\\n2          2\\n3   ...</td>\n",
       "    </tr>\n",
       "    <tr>\n",
       "      <th>1654</th>\n",
       "      <td>Young Man of Manhattan (1930)</td>\n",
       "      <td>0          0\\n1          1\\n2          2\\n3   ...</td>\n",
       "    </tr>\n",
       "    <tr>\n",
       "      <th>1655</th>\n",
       "      <td>Young Man with a Horn (1950)</td>\n",
       "      <td>0          0\\n1          1\\n2          2\\n3   ...</td>\n",
       "    </tr>\n",
       "    <tr>\n",
       "      <th>1657</th>\n",
       "      <td>De Zaak Alzheimer (The Alzheimer Case) (2003)</td>\n",
       "      <td>0          0\\n1          1\\n2          2\\n3   ...</td>\n",
       "    </tr>\n",
       "    <tr>\n",
       "      <th>1658</th>\n",
       "      <td>Zarak (1956)</td>\n",
       "      <td>0          0\\n1          1\\n2          2\\n3   ...</td>\n",
       "    </tr>\n",
       "    <tr>\n",
       "      <th>1659</th>\n",
       "      <td>Zathura (2005)</td>\n",
       "      <td>0          0\\n1          1\\n2          2\\n3   ...</td>\n",
       "    </tr>\n",
       "    <tr>\n",
       "      <th>1660</th>\n",
       "      <td>Zazie in the Metro (Zazie dans le Métro) (1960)</td>\n",
       "      <td>0          0\\n1          1\\n2          2\\n3   ...</td>\n",
       "    </tr>\n",
       "    <tr>\n",
       "      <th>1661</th>\n",
       "      <td>06/05 (2003)</td>\n",
       "      <td>0          0\\n1          1\\n2          2\\n3   ...</td>\n",
       "    </tr>\n",
       "    <tr>\n",
       "      <th>1662</th>\n",
       "      <td>Zona Zamfirova (2002)</td>\n",
       "      <td>0          0\\n1          1\\n2          2\\n3   ...</td>\n",
       "    </tr>\n",
       "    <tr>\n",
       "      <th>1663</th>\n",
       "      <td>Zorba the Greek (1964)</td>\n",
       "      <td>0          0\\n1          1\\n2          2\\n3   ...</td>\n",
       "    </tr>\n",
       "    <tr>\n",
       "      <th>1664</th>\n",
       "      <td>El callejón de los milagros (1994)</td>\n",
       "      <td>0          0\\n1          1\\n2          2\\n3   ...</td>\n",
       "    </tr>\n",
       "  </tbody>\n",
       "</table>\n",
       "<p>3265 rows × 2 columns</p>\n",
       "</div>"
      ],
      "text/plain": [
       "                                      film_adaptation  \\\n",
       "0                                   100 Rifles (1969)   \n",
       "1                                101 Reykjavík (2000)   \n",
       "2                                         Salò (1975)   \n",
       "3                                    25th Hour (2002)   \n",
       "4                                         2010 (1984)   \n",
       "5                             Murder, She Said (1961)   \n",
       "5                   Le crime est notre affaire (2008)   \n",
       "6                                  42nd Street (1933)   \n",
       "7                                    48 Shades (2006)   \n",
       "8                                          491 (1964)   \n",
       "9                            50 Shades of Grey (2015)   \n",
       "10                  50 Ways of Saying Fabulous (2005)   \n",
       "11                              The Ambassador (1984)   \n",
       "11                                  52 Pick-Up (1986)   \n",
       "12                                  Die Hard 2 (1990)   \n",
       "13                                633 Squadron (1964)   \n",
       "15                        The Alphabet Murders (1966)   \n",
       "15                     The A.B.C. Murders (1992) (TV)   \n",
       "16                                 À ton image (2004)   \n",
       "17                                 The Assault (1986)   \n",
       "18                                 About a Boy (2002)   \n",
       "19                               About Schmidt (2002)   \n",
       "20                              Absolute Power (1997)   \n",
       "21                      The Accidental Tourist (1988)   \n",
       "22                         Across 110th Street (1972)   \n",
       "23                            Adam Resurrected (2009)   \n",
       "24                                     Abandon (2002)   \n",
       "25                                  Paper Moon (1973)   \n",
       "26                                   Green Tea (2003)   \n",
       "27                                     Adolphe (2002)   \n",
       "...                                               ...   \n",
       "1637               The Wreck of the Mary Deare (1959)   \n",
       "1638                             The Wrong Box (1966)   \n",
       "1639                         Wuthering Heights (1939)   \n",
       "1639                         Abismos de Pasión (1954)   \n",
       "1639                         Wuthering Heights (1970)   \n",
       "1639          Emily Brontë's Wuthering Heights (1992)   \n",
       "1639                         Wuthering Heights (2003)   \n",
       "1640                              The Warriors (1979)   \n",
       "1642                        Youth of the Beast (1963)   \n",
       "1643            The Year of Living Dangerously (1982)   \n",
       "1644                        Night of the Lepus (1972)   \n",
       "1645        The Horse in the Gray Flannel Suit (1968)   \n",
       "1646                         Yellowstone Kelly (1959)   \n",
       "1647                       Eyes Without a Face (1960)   \n",
       "1648                        Yield to the Night (1956)   \n",
       "1649                                     Whore (2004)   \n",
       "1650                       You Only Live Twice (1967)   \n",
       "1651                        Guilt Is My Shadow (1950)   \n",
       "1652            Your Ticket Is No Longer Valid (1981)   \n",
       "1653                                Young Adam (2003)   \n",
       "1654                    Young Man of Manhattan (1930)   \n",
       "1655                     Young Man with a Horn (1950)   \n",
       "1657    De Zaak Alzheimer (The Alzheimer Case) (2003)   \n",
       "1658                                     Zarak (1956)   \n",
       "1659                                   Zathura (2005)   \n",
       "1660  Zazie in the Metro (Zazie dans le Métro) (1960)   \n",
       "1661                                     06/05 (2003)   \n",
       "1662                            Zona Zamfirova (2002)   \n",
       "1663                           Zorba the Greek (1964)   \n",
       "1664               El callejón de los milagros (1994)   \n",
       "\n",
       "                                                    key  \n",
       "0     0          0\\n1          1\\n2          2\\n3   ...  \n",
       "1     0          0\\n1          1\\n2          2\\n3   ...  \n",
       "2     0          0\\n1          1\\n2          2\\n3   ...  \n",
       "3     0          0\\n1          1\\n2          2\\n3   ...  \n",
       "4     0          0\\n1          1\\n2          2\\n3   ...  \n",
       "5     0          0\\n1          1\\n2          2\\n3   ...  \n",
       "5     0          0\\n1          1\\n2          2\\n3   ...  \n",
       "6     0          0\\n1          1\\n2          2\\n3   ...  \n",
       "7     0          0\\n1          1\\n2          2\\n3   ...  \n",
       "8     0          0\\n1          1\\n2          2\\n3   ...  \n",
       "9     0          0\\n1          1\\n2          2\\n3   ...  \n",
       "10    0          0\\n1          1\\n2          2\\n3   ...  \n",
       "11    0          0\\n1          1\\n2          2\\n3   ...  \n",
       "11    0          0\\n1          1\\n2          2\\n3   ...  \n",
       "12    0          0\\n1          1\\n2          2\\n3   ...  \n",
       "13    0          0\\n1          1\\n2          2\\n3   ...  \n",
       "15    0          0\\n1          1\\n2          2\\n3   ...  \n",
       "15    0          0\\n1          1\\n2          2\\n3   ...  \n",
       "16    0          0\\n1          1\\n2          2\\n3   ...  \n",
       "17    0          0\\n1          1\\n2          2\\n3   ...  \n",
       "18    0          0\\n1          1\\n2          2\\n3   ...  \n",
       "19    0          0\\n1          1\\n2          2\\n3   ...  \n",
       "20    0          0\\n1          1\\n2          2\\n3   ...  \n",
       "21    0          0\\n1          1\\n2          2\\n3   ...  \n",
       "22    0          0\\n1          1\\n2          2\\n3   ...  \n",
       "23    0          0\\n1          1\\n2          2\\n3   ...  \n",
       "24    0          0\\n1          1\\n2          2\\n3   ...  \n",
       "25    0          0\\n1          1\\n2          2\\n3   ...  \n",
       "26    0          0\\n1          1\\n2          2\\n3   ...  \n",
       "27    0          0\\n1          1\\n2          2\\n3   ...  \n",
       "...                                                 ...  \n",
       "1637  0          0\\n1          1\\n2          2\\n3   ...  \n",
       "1638  0          0\\n1          1\\n2          2\\n3   ...  \n",
       "1639  0          0\\n1          1\\n2          2\\n3   ...  \n",
       "1639  0          0\\n1          1\\n2          2\\n3   ...  \n",
       "1639  0          0\\n1          1\\n2          2\\n3   ...  \n",
       "1639  0          0\\n1          1\\n2          2\\n3   ...  \n",
       "1639  0          0\\n1          1\\n2          2\\n3   ...  \n",
       "1640  0          0\\n1          1\\n2          2\\n3   ...  \n",
       "1642  0          0\\n1          1\\n2          2\\n3   ...  \n",
       "1643  0          0\\n1          1\\n2          2\\n3   ...  \n",
       "1644  0          0\\n1          1\\n2          2\\n3   ...  \n",
       "1645  0          0\\n1          1\\n2          2\\n3   ...  \n",
       "1646  0          0\\n1          1\\n2          2\\n3   ...  \n",
       "1647  0          0\\n1          1\\n2          2\\n3   ...  \n",
       "1648  0          0\\n1          1\\n2          2\\n3   ...  \n",
       "1649  0          0\\n1          1\\n2          2\\n3   ...  \n",
       "1650  0          0\\n1          1\\n2          2\\n3   ...  \n",
       "1651  0          0\\n1          1\\n2          2\\n3   ...  \n",
       "1652  0          0\\n1          1\\n2          2\\n3   ...  \n",
       "1653  0          0\\n1          1\\n2          2\\n3   ...  \n",
       "1654  0          0\\n1          1\\n2          2\\n3   ...  \n",
       "1655  0          0\\n1          1\\n2          2\\n3   ...  \n",
       "1657  0          0\\n1          1\\n2          2\\n3   ...  \n",
       "1658  0          0\\n1          1\\n2          2\\n3   ...  \n",
       "1659  0          0\\n1          1\\n2          2\\n3   ...  \n",
       "1660  0          0\\n1          1\\n2          2\\n3   ...  \n",
       "1661  0          0\\n1          1\\n2          2\\n3   ...  \n",
       "1662  0          0\\n1          1\\n2          2\\n3   ...  \n",
       "1663  0          0\\n1          1\\n2          2\\n3   ...  \n",
       "1664  0          0\\n1          1\\n2          2\\n3   ...  \n",
       "\n",
       "[3265 rows x 2 columns]"
      ]
     },
     "execution_count": 160,
     "metadata": {},
     "output_type": "execute_result"
    }
   ],
   "source": [
    "filmDF"
   ]
  },
  {
   "cell_type": "code",
   "execution_count": 138,
   "metadata": {
    "collapsed": true
   },
   "outputs": [],
   "source": [
    "#filmDF[filmDF['film_adaptation'].str.contains('Harry Potter')]"
   ]
  },
  {
   "cell_type": "code",
   "execution_count": 57,
   "metadata": {
    "collapsed": true
   },
   "outputs": [],
   "source": [
    "# join the datasets back together\n",
    "# \n",
    "#wikiDF = wikiDF.join(film_series,how='right')"
   ]
  },
  {
   "cell_type": "code",
   "execution_count": 58,
   "metadata": {
    "collapsed": true
   },
   "outputs": [],
   "source": [
    "#wikiDF[wikiDF['film_adaptation'].str.contains('Harry Potter')]\n",
    "#df[df['ids'].str.contains(\"ball\")]"
   ]
  },
  {
   "cell_type": "code",
   "execution_count": 59,
   "metadata": {
    "collapsed": true
   },
   "outputs": [],
   "source": [
    "#wikiDF = wikiDF.join(fiction_series, how='left')"
   ]
  },
  {
   "cell_type": "code",
   "execution_count": 60,
   "metadata": {},
   "outputs": [
    {
     "data": {
      "text/plain": [
       "(1641, 1)"
      ]
     },
     "execution_count": 60,
     "metadata": {},
     "output_type": "execute_result"
    }
   ],
   "source": [
    "wikiDF.shape"
   ]
  },
  {
   "cell_type": "code",
   "execution_count": 98,
   "metadata": {
    "collapsed": true
   },
   "outputs": [],
   "source": [
    "wikiDF.film_year = wikiDF.film_year.apply(lambda x: np.nan if len(x)==0 else x)"
   ]
  },
  {
   "cell_type": "code",
   "execution_count": 102,
   "metadata": {},
   "outputs": [
    {
     "data": {
      "text/plain": [
       "10"
      ]
     },
     "execution_count": 102,
     "metadata": {},
     "output_type": "execute_result"
    }
   ],
   "source": [
    "wikiDF.film_year.isnull().sum()"
   ]
  },
  {
   "cell_type": "code",
   "execution_count": 106,
   "metadata": {
    "collapsed": true
   },
   "outputs": [],
   "source": [
    "wikiDF.dropna(subset=['film_year'],axis=0,inplace=True)"
   ]
  },
  {
   "cell_type": "code",
   "execution_count": 107,
   "metadata": {},
   "outputs": [
    {
     "data": {
      "text/plain": [
       "(4889, 3)"
      ]
     },
     "execution_count": 107,
     "metadata": {},
     "output_type": "execute_result"
    }
   ],
   "source": [
    "wikiDF.shape"
   ]
  },
  {
   "cell_type": "markdown",
   "metadata": {},
   "source": [
    "## IMDB"
   ]
  },
  {
   "cell_type": "code",
   "execution_count": 245,
   "metadata": {
    "collapsed": true
   },
   "outputs": [],
   "source": [
    "origDF = pd.read_json('data/screenplay.json')\n",
    "movieDF = pd.read_json('data/movie_novels.json')\n",
    "bookDF = pd.read_json('data/wikibooks.json')"
   ]
  },
  {
   "cell_type": "code",
   "execution_count": 246,
   "metadata": {},
   "outputs": [
    {
     "data": {
      "text/plain": [
       "(10000, 11)"
      ]
     },
     "execution_count": 246,
     "metadata": {},
     "output_type": "execute_result"
    }
   ],
   "source": [
    "movieDF.shape"
   ]
  },
  {
   "cell_type": "code",
   "execution_count": 184,
   "metadata": {},
   "outputs": [
    {
     "data": {
      "text/plain": [
       "(1209, 6)"
      ]
     },
     "execution_count": 184,
     "metadata": {},
     "output_type": "execute_result"
    }
   ],
   "source": [
    "bookDF.shape"
   ]
  },
  {
   "cell_type": "code",
   "execution_count": 185,
   "metadata": {},
   "outputs": [
    {
     "data": {
      "text/plain": [
       "(76, 11)"
      ]
     },
     "execution_count": 185,
     "metadata": {},
     "output_type": "execute_result"
    }
   ],
   "source": [
    "origDF.shape"
   ]
  },
  {
   "cell_type": "code",
   "execution_count": 186,
   "metadata": {},
   "outputs": [
    {
     "data": {
      "text/html": [
       "<div>\n",
       "<style>\n",
       "    .dataframe thead tr:only-child th {\n",
       "        text-align: right;\n",
       "    }\n",
       "\n",
       "    .dataframe thead th {\n",
       "        text-align: left;\n",
       "    }\n",
       "\n",
       "    .dataframe tbody tr th {\n",
       "        vertical-align: top;\n",
       "    }\n",
       "</style>\n",
       "<table border=\"1\" class=\"dataframe\">\n",
       "  <thead>\n",
       "    <tr style=\"text-align: right;\">\n",
       "      <th></th>\n",
       "      <th>box_office</th>\n",
       "      <th>budget</th>\n",
       "      <th>director</th>\n",
       "      <th>genre</th>\n",
       "      <th>name</th>\n",
       "      <th>rating</th>\n",
       "      <th>release_date</th>\n",
       "      <th>runtime</th>\n",
       "      <th>url</th>\n",
       "      <th>user_rating</th>\n",
       "      <th>year</th>\n",
       "    </tr>\n",
       "  </thead>\n",
       "  <tbody>\n",
       "    <tr>\n",
       "      <th>0</th>\n",
       "      <td>None</td>\n",
       "      <td>None</td>\n",
       "      <td>None</td>\n",
       "      <td>[ Drama]</td>\n",
       "      <td>Call the Midwife</td>\n",
       "      <td>TV-PG</td>\n",
       "      <td>2012 (UK)</td>\n",
       "      <td>60</td>\n",
       "      <td>http://www.imdb.com/title/tt1983079/?ref_=kw_l...</td>\n",
       "      <td>8.4</td>\n",
       "      <td>NaN</td>\n",
       "    </tr>\n",
       "    <tr>\n",
       "      <th>1</th>\n",
       "      <td>$217,536,138</td>\n",
       "      <td>$125,000,000</td>\n",
       "      <td>Ron Howard</td>\n",
       "      <td>[ Mystery,  Thriller]</td>\n",
       "      <td>The Da Vinci Code</td>\n",
       "      <td>PG-13</td>\n",
       "      <td>19 May 2006 (USA)</td>\n",
       "      <td>149</td>\n",
       "      <td>http://www.imdb.com/title/tt0382625/?ref_=kw_l...</td>\n",
       "      <td>6.6</td>\n",
       "      <td>2006.0</td>\n",
       "    </tr>\n",
       "    <tr>\n",
       "      <th>2</th>\n",
       "      <td>$13,060,843</td>\n",
       "      <td>$5,000,000</td>\n",
       "      <td>Spike Lee</td>\n",
       "      <td>[ Drama]</td>\n",
       "      <td>25th Hour</td>\n",
       "      <td>R</td>\n",
       "      <td>10 January 2003 (USA)</td>\n",
       "      <td>135</td>\n",
       "      <td>http://www.imdb.com/title/tt0307901/?ref_=kw_l...</td>\n",
       "      <td>7.7</td>\n",
       "      <td>2002.0</td>\n",
       "    </tr>\n",
       "    <tr>\n",
       "      <th>3</th>\n",
       "      <td>$9,170,214</td>\n",
       "      <td>$11,000,000</td>\n",
       "      <td>Lasse Hallström</td>\n",
       "      <td>[ Drama]</td>\n",
       "      <td>What's Eating Gilbert Grape</td>\n",
       "      <td>PG-13</td>\n",
       "      <td>4 March 1994 (USA)</td>\n",
       "      <td>118</td>\n",
       "      <td>http://www.imdb.com/title/tt0108550/?ref_=kw_l...</td>\n",
       "      <td>7.8</td>\n",
       "      <td>1993.0</td>\n",
       "    </tr>\n",
       "    <tr>\n",
       "      <th>4</th>\n",
       "      <td>$81,001,787</td>\n",
       "      <td>$29,000,000</td>\n",
       "      <td>Nick Cassavetes</td>\n",
       "      <td>[ Drama,  Romance]</td>\n",
       "      <td>The Notebook</td>\n",
       "      <td>PG-13</td>\n",
       "      <td>25 June 2004 (USA)</td>\n",
       "      <td>123</td>\n",
       "      <td>http://www.imdb.com/title/tt0332280/?ref_=kw_l...</td>\n",
       "      <td>7.9</td>\n",
       "      <td>2004.0</td>\n",
       "    </tr>\n",
       "  </tbody>\n",
       "</table>\n",
       "</div>"
      ],
      "text/plain": [
       "     box_office        budget         director                  genre  \\\n",
       "0          None          None             None               [ Drama]   \n",
       "1  $217,536,138  $125,000,000       Ron Howard  [ Mystery,  Thriller]   \n",
       "2   $13,060,843    $5,000,000        Spike Lee               [ Drama]   \n",
       "3    $9,170,214   $11,000,000  Lasse Hallström               [ Drama]   \n",
       "4   $81,001,787   $29,000,000  Nick Cassavetes     [ Drama,  Romance]   \n",
       "\n",
       "                          name rating           release_date runtime  \\\n",
       "0             Call the Midwife  TV-PG              2012 (UK)      60   \n",
       "1            The Da Vinci Code  PG-13      19 May 2006 (USA)     149   \n",
       "2                    25th Hour      R  10 January 2003 (USA)     135   \n",
       "3  What's Eating Gilbert Grape  PG-13     4 March 1994 (USA)     118   \n",
       "4                 The Notebook  PG-13     25 June 2004 (USA)     123   \n",
       "\n",
       "                                                 url  user_rating    year  \n",
       "0  http://www.imdb.com/title/tt1983079/?ref_=kw_l...          8.4     NaN  \n",
       "1  http://www.imdb.com/title/tt0382625/?ref_=kw_l...          6.6  2006.0  \n",
       "2  http://www.imdb.com/title/tt0307901/?ref_=kw_l...          7.7  2002.0  \n",
       "3  http://www.imdb.com/title/tt0108550/?ref_=kw_l...          7.8  1993.0  \n",
       "4  http://www.imdb.com/title/tt0332280/?ref_=kw_l...          7.9  2004.0  "
      ]
     },
     "execution_count": 186,
     "metadata": {},
     "output_type": "execute_result"
    }
   ],
   "source": [
    "# remove min from runtime and convert to int\n",
    "movieDF['runtime'] = movieDF.runtime.str.replace(' min','')\n",
    "movieDF.head()"
   ]
  },
  {
   "cell_type": "markdown",
   "metadata": {},
   "source": [
    "get_dummies for genre"
   ]
  },
  {
   "cell_type": "code",
   "execution_count": 194,
   "metadata": {},
   "outputs": [
    {
     "name": "stdout",
     "output_type": "stream",
     "text": [
      "<class 'pandas.core.frame.DataFrame'>\n",
      "Int64Index: 10000 entries, 0 to 9999\n",
      "Data columns (total 33 columns):\n",
      "box_office      2047 non-null object\n",
      "budget          2538 non-null object\n",
      "director        8873 non-null object\n",
      "name            10000 non-null object\n",
      "rating          5657 non-null object\n",
      "release_date    9612 non-null object\n",
      "runtime         8371 non-null object\n",
      "url             10000 non-null object\n",
      "user_rating     9666 non-null float64\n",
      "year            8870 non-null float64\n",
      "Action          10000 non-null int64\n",
      "Adventure       10000 non-null int64\n",
      "Animation       10000 non-null int64\n",
      "Biography       10000 non-null int64\n",
      "Comedy          10000 non-null int64\n",
      "Crime           10000 non-null int64\n",
      "Documentary     10000 non-null int64\n",
      "Drama           10000 non-null int64\n",
      "Family          10000 non-null int64\n",
      "Fantasy         10000 non-null int64\n",
      "Film-Noir       10000 non-null int64\n",
      "History         10000 non-null int64\n",
      "Horror          10000 non-null int64\n",
      "Music           10000 non-null int64\n",
      "Musical         10000 non-null int64\n",
      "Mystery         10000 non-null int64\n",
      "Romance         10000 non-null int64\n",
      "Sci-Fi          10000 non-null int64\n",
      "Short           10000 non-null int64\n",
      "Sport           10000 non-null int64\n",
      "Thriller        10000 non-null int64\n",
      "War             10000 non-null int64\n",
      "Western         10000 non-null int64\n",
      "dtypes: float64(2), int64(23), object(8)\n",
      "memory usage: 2.9+ MB\n"
     ]
    }
   ],
   "source": [
    "movieDF.info()"
   ]
  },
  {
   "cell_type": "code",
   "execution_count": 195,
   "metadata": {},
   "outputs": [
    {
     "data": {
      "text/plain": [
       "7953"
      ]
     },
     "execution_count": 195,
     "metadata": {},
     "output_type": "execute_result"
    }
   ],
   "source": [
    "movieDF.box_office.isnull().sum()"
   ]
  },
  {
   "cell_type": "code",
   "execution_count": 196,
   "metadata": {
    "collapsed": true
   },
   "outputs": [],
   "source": [
    "movieDF.dropna(subset=['box_office'],axis=0,inplace=True)"
   ]
  },
  {
   "cell_type": "code",
   "execution_count": 197,
   "metadata": {},
   "outputs": [
    {
     "name": "stdout",
     "output_type": "stream",
     "text": [
      "<class 'pandas.core.frame.DataFrame'>\n",
      "Int64Index: 2047 entries, 1 to 9939\n",
      "Data columns (total 33 columns):\n",
      "box_office      2047 non-null object\n",
      "budget          1275 non-null object\n",
      "director        2047 non-null object\n",
      "name            2047 non-null object\n",
      "rating          1953 non-null object\n",
      "release_date    2047 non-null object\n",
      "runtime         1905 non-null object\n",
      "url             2047 non-null object\n",
      "user_rating     2047 non-null float64\n",
      "year            2047 non-null float64\n",
      "Action          2047 non-null int64\n",
      "Adventure       2047 non-null int64\n",
      "Animation       2047 non-null int64\n",
      "Biography       2047 non-null int64\n",
      "Comedy          2047 non-null int64\n",
      "Crime           2047 non-null int64\n",
      "Documentary     2047 non-null int64\n",
      "Drama           2047 non-null int64\n",
      "Family          2047 non-null int64\n",
      "Fantasy         2047 non-null int64\n",
      "Film-Noir       2047 non-null int64\n",
      "History         2047 non-null int64\n",
      "Horror          2047 non-null int64\n",
      "Music           2047 non-null int64\n",
      "Musical         2047 non-null int64\n",
      "Mystery         2047 non-null int64\n",
      "Romance         2047 non-null int64\n",
      "Sci-Fi          2047 non-null int64\n",
      "Short           2047 non-null int64\n",
      "Sport           2047 non-null int64\n",
      "Thriller        2047 non-null int64\n",
      "War             2047 non-null int64\n",
      "Western         2047 non-null int64\n",
      "dtypes: float64(2), int64(23), object(8)\n",
      "memory usage: 543.7+ KB\n"
     ]
    }
   ],
   "source": [
    "movieDF.info()"
   ]
  },
  {
   "cell_type": "code",
   "execution_count": 198,
   "metadata": {},
   "outputs": [],
   "source": [
    "# replace the dollar signs in currency fields\n",
    "# box office\n",
    "movieDF['box_office'] = movieDF['box_office'].str.replace('$','')\n",
    "movieDF['box_office'] = movieDF['box_office'].str.replace(',','')\n",
    "movieDF['box_office'] = movieDF['box_office'].astype(int)\n",
    "# budget\n",
    "movieDF['budget'] = movieDF['budget'].str.replace('$','')\n",
    "movieDF['budget'] = movieDF['budget'].str.replace(',','')\n",
    "movieDF.budget.fillna(value=0, inplace=True)\n",
    "#movieDF['budget'] = movieDF['budget'].astype(int)"
   ]
  },
  {
   "cell_type": "code",
   "execution_count": 199,
   "metadata": {},
   "outputs": [
    {
     "name": "stdout",
     "output_type": "stream",
     "text": [
      "<class 'pandas.core.frame.DataFrame'>\n",
      "Int64Index: 2047 entries, 1 to 9939\n",
      "Data columns (total 33 columns):\n",
      "box_office      2047 non-null int64\n",
      "budget          2047 non-null object\n",
      "director        2047 non-null object\n",
      "name            2047 non-null object\n",
      "rating          1953 non-null object\n",
      "release_date    2047 non-null object\n",
      "runtime         1905 non-null object\n",
      "url             2047 non-null object\n",
      "user_rating     2047 non-null float64\n",
      "year            2047 non-null float64\n",
      "Action          2047 non-null int64\n",
      "Adventure       2047 non-null int64\n",
      "Animation       2047 non-null int64\n",
      "Biography       2047 non-null int64\n",
      "Comedy          2047 non-null int64\n",
      "Crime           2047 non-null int64\n",
      "Documentary     2047 non-null int64\n",
      "Drama           2047 non-null int64\n",
      "Family          2047 non-null int64\n",
      "Fantasy         2047 non-null int64\n",
      "Film-Noir       2047 non-null int64\n",
      "History         2047 non-null int64\n",
      "Horror          2047 non-null int64\n",
      "Music           2047 non-null int64\n",
      "Musical         2047 non-null int64\n",
      "Mystery         2047 non-null int64\n",
      "Romance         2047 non-null int64\n",
      "Sci-Fi          2047 non-null int64\n",
      "Short           2047 non-null int64\n",
      "Sport           2047 non-null int64\n",
      "Thriller        2047 non-null int64\n",
      "War             2047 non-null int64\n",
      "Western         2047 non-null int64\n",
      "dtypes: float64(2), int64(24), object(7)\n",
      "memory usage: 543.7+ KB\n"
     ]
    }
   ],
   "source": [
    "movieDF.info()"
   ]
  },
  {
   "cell_type": "markdown",
   "metadata": {},
   "source": [
    "### Need to fix unicode characters in Currency"
   ]
  },
  {
   "cell_type": "code",
   "execution_count": 200,
   "metadata": {},
   "outputs": [],
   "source": [
    "#type(origDF.budget)"
   ]
  },
  {
   "cell_type": "code",
   "execution_count": 201,
   "metadata": {
    "collapsed": true
   },
   "outputs": [],
   "source": [
    "# def convert_currency(row):\n",
    "#     if type(row) == str:\n",
    "#         if '£' in row:\n",
    "#             row = row.replace('£','',1)\n",
    "#             #row = row.replace(',','')\n",
    "#             print(row)\n",
    "#             row = float(row)\n",
    "#             return row * 1.34\n",
    "#         else:\n",
    "#             return row\n",
    "#     else:\n",
    "#         return row\n",
    "        "
   ]
  },
  {
   "cell_type": "code",
   "execution_count": 202,
   "metadata": {},
   "outputs": [],
   "source": [
    "#origDF['budget'] = origDF['budget'].apply(convert_currency)"
   ]
  },
  {
   "cell_type": "code",
   "execution_count": 203,
   "metadata": {},
   "outputs": [],
   "source": [
    "#origDF[origDF['name'].str.contains('The Crying Game')]"
   ]
  },
  {
   "cell_type": "code",
   "execution_count": 204,
   "metadata": {
    "collapsed": true
   },
   "outputs": [],
   "source": [
    "#origDF['budget'] = origDF.budget.astype(int)"
   ]
  },
  {
   "cell_type": "code",
   "execution_count": 205,
   "metadata": {},
   "outputs": [],
   "source": [
    "# Fill Null values with 0 and covnert to int\n",
    "movieDF['runtime'] = movieDF.runtime.fillna(value=0)"
   ]
  },
  {
   "cell_type": "code",
   "execution_count": 206,
   "metadata": {},
   "outputs": [],
   "source": [
    "movieDF['runtime'] = movieDF.runtime.astype('int')"
   ]
  },
  {
   "cell_type": "code",
   "execution_count": 207,
   "metadata": {},
   "outputs": [
    {
     "name": "stdout",
     "output_type": "stream",
     "text": [
      "<class 'pandas.core.frame.DataFrame'>\n",
      "Int64Index: 2047 entries, 1 to 9939\n",
      "Data columns (total 33 columns):\n",
      "box_office      2047 non-null int64\n",
      "budget          2047 non-null object\n",
      "director        2047 non-null object\n",
      "name            2047 non-null object\n",
      "rating          1953 non-null object\n",
      "release_date    2047 non-null object\n",
      "runtime         2047 non-null int64\n",
      "url             2047 non-null object\n",
      "user_rating     2047 non-null float64\n",
      "year            2047 non-null float64\n",
      "Action          2047 non-null int64\n",
      "Adventure       2047 non-null int64\n",
      "Animation       2047 non-null int64\n",
      "Biography       2047 non-null int64\n",
      "Comedy          2047 non-null int64\n",
      "Crime           2047 non-null int64\n",
      "Documentary     2047 non-null int64\n",
      "Drama           2047 non-null int64\n",
      "Family          2047 non-null int64\n",
      "Fantasy         2047 non-null int64\n",
      "Film-Noir       2047 non-null int64\n",
      "History         2047 non-null int64\n",
      "Horror          2047 non-null int64\n",
      "Music           2047 non-null int64\n",
      "Musical         2047 non-null int64\n",
      "Mystery         2047 non-null int64\n",
      "Romance         2047 non-null int64\n",
      "Sci-Fi          2047 non-null int64\n",
      "Short           2047 non-null int64\n",
      "Sport           2047 non-null int64\n",
      "Thriller        2047 non-null int64\n",
      "War             2047 non-null int64\n",
      "Western         2047 non-null int64\n",
      "dtypes: float64(2), int64(25), object(6)\n",
      "memory usage: 543.7+ KB\n"
     ]
    }
   ],
   "source": [
    "movieDF.info()"
   ]
  },
  {
   "cell_type": "code",
   "execution_count": 208,
   "metadata": {},
   "outputs": [
    {
     "data": {
      "text/html": [
       "<div>\n",
       "<style>\n",
       "    .dataframe thead tr:only-child th {\n",
       "        text-align: right;\n",
       "    }\n",
       "\n",
       "    .dataframe thead th {\n",
       "        text-align: left;\n",
       "    }\n",
       "\n",
       "    .dataframe tbody tr th {\n",
       "        vertical-align: top;\n",
       "    }\n",
       "</style>\n",
       "<table border=\"1\" class=\"dataframe\">\n",
       "  <thead>\n",
       "    <tr style=\"text-align: right;\">\n",
       "      <th></th>\n",
       "      <th>box_office</th>\n",
       "      <th>budget</th>\n",
       "      <th>director</th>\n",
       "      <th>name</th>\n",
       "      <th>rating</th>\n",
       "      <th>release_date</th>\n",
       "      <th>runtime</th>\n",
       "      <th>url</th>\n",
       "      <th>user_rating</th>\n",
       "      <th>year</th>\n",
       "      <th>...</th>\n",
       "      <th>Music</th>\n",
       "      <th>Musical</th>\n",
       "      <th>Mystery</th>\n",
       "      <th>Romance</th>\n",
       "      <th>Sci-Fi</th>\n",
       "      <th>Short</th>\n",
       "      <th>Sport</th>\n",
       "      <th>Thriller</th>\n",
       "      <th>War</th>\n",
       "      <th>Western</th>\n",
       "    </tr>\n",
       "  </thead>\n",
       "  <tbody>\n",
       "    <tr>\n",
       "      <th>1</th>\n",
       "      <td>217536138</td>\n",
       "      <td>125000000</td>\n",
       "      <td>Ron Howard</td>\n",
       "      <td>The Da Vinci Code</td>\n",
       "      <td>PG-13</td>\n",
       "      <td>19 May 2006 (USA)</td>\n",
       "      <td>149</td>\n",
       "      <td>http://www.imdb.com/title/tt0382625/?ref_=kw_l...</td>\n",
       "      <td>6.6</td>\n",
       "      <td>2006.0</td>\n",
       "      <td>...</td>\n",
       "      <td>0</td>\n",
       "      <td>0</td>\n",
       "      <td>1</td>\n",
       "      <td>0</td>\n",
       "      <td>0</td>\n",
       "      <td>0</td>\n",
       "      <td>0</td>\n",
       "      <td>1</td>\n",
       "      <td>0</td>\n",
       "      <td>0</td>\n",
       "    </tr>\n",
       "    <tr>\n",
       "      <th>2</th>\n",
       "      <td>13060843</td>\n",
       "      <td>5000000</td>\n",
       "      <td>Spike Lee</td>\n",
       "      <td>25th Hour</td>\n",
       "      <td>R</td>\n",
       "      <td>10 January 2003 (USA)</td>\n",
       "      <td>135</td>\n",
       "      <td>http://www.imdb.com/title/tt0307901/?ref_=kw_l...</td>\n",
       "      <td>7.7</td>\n",
       "      <td>2002.0</td>\n",
       "      <td>...</td>\n",
       "      <td>0</td>\n",
       "      <td>0</td>\n",
       "      <td>0</td>\n",
       "      <td>0</td>\n",
       "      <td>0</td>\n",
       "      <td>0</td>\n",
       "      <td>0</td>\n",
       "      <td>0</td>\n",
       "      <td>0</td>\n",
       "      <td>0</td>\n",
       "    </tr>\n",
       "    <tr>\n",
       "      <th>3</th>\n",
       "      <td>9170214</td>\n",
       "      <td>11000000</td>\n",
       "      <td>Lasse Hallström</td>\n",
       "      <td>What's Eating Gilbert Grape</td>\n",
       "      <td>PG-13</td>\n",
       "      <td>4 March 1994 (USA)</td>\n",
       "      <td>118</td>\n",
       "      <td>http://www.imdb.com/title/tt0108550/?ref_=kw_l...</td>\n",
       "      <td>7.8</td>\n",
       "      <td>1993.0</td>\n",
       "      <td>...</td>\n",
       "      <td>0</td>\n",
       "      <td>0</td>\n",
       "      <td>0</td>\n",
       "      <td>0</td>\n",
       "      <td>0</td>\n",
       "      <td>0</td>\n",
       "      <td>0</td>\n",
       "      <td>0</td>\n",
       "      <td>0</td>\n",
       "      <td>0</td>\n",
       "    </tr>\n",
       "    <tr>\n",
       "      <th>4</th>\n",
       "      <td>81001787</td>\n",
       "      <td>29000000</td>\n",
       "      <td>Nick Cassavetes</td>\n",
       "      <td>The Notebook</td>\n",
       "      <td>PG-13</td>\n",
       "      <td>25 June 2004 (USA)</td>\n",
       "      <td>123</td>\n",
       "      <td>http://www.imdb.com/title/tt0332280/?ref_=kw_l...</td>\n",
       "      <td>7.9</td>\n",
       "      <td>2004.0</td>\n",
       "      <td>...</td>\n",
       "      <td>0</td>\n",
       "      <td>0</td>\n",
       "      <td>0</td>\n",
       "      <td>1</td>\n",
       "      <td>0</td>\n",
       "      <td>0</td>\n",
       "      <td>0</td>\n",
       "      <td>0</td>\n",
       "      <td>0</td>\n",
       "      <td>0</td>\n",
       "    </tr>\n",
       "    <tr>\n",
       "      <th>5</th>\n",
       "      <td>26384681</td>\n",
       "      <td>100000000</td>\n",
       "      <td>Timur Bekmambetov</td>\n",
       "      <td>Ben-Hur</td>\n",
       "      <td>PG-13</td>\n",
       "      <td>19 August 2016 (USA)</td>\n",
       "      <td>123</td>\n",
       "      <td>http://www.imdb.com/title/tt2638144/?ref_=kw_l...</td>\n",
       "      <td>5.7</td>\n",
       "      <td>2016.0</td>\n",
       "      <td>...</td>\n",
       "      <td>0</td>\n",
       "      <td>0</td>\n",
       "      <td>0</td>\n",
       "      <td>0</td>\n",
       "      <td>0</td>\n",
       "      <td>0</td>\n",
       "      <td>0</td>\n",
       "      <td>0</td>\n",
       "      <td>0</td>\n",
       "      <td>0</td>\n",
       "    </tr>\n",
       "  </tbody>\n",
       "</table>\n",
       "<p>5 rows × 33 columns</p>\n",
       "</div>"
      ],
      "text/plain": [
       "   box_office     budget           director                         name  \\\n",
       "1   217536138  125000000         Ron Howard            The Da Vinci Code   \n",
       "2    13060843    5000000          Spike Lee                    25th Hour   \n",
       "3     9170214   11000000    Lasse Hallström  What's Eating Gilbert Grape   \n",
       "4    81001787   29000000    Nick Cassavetes                 The Notebook   \n",
       "5    26384681  100000000  Timur Bekmambetov                      Ben-Hur   \n",
       "\n",
       "  rating           release_date  runtime  \\\n",
       "1  PG-13      19 May 2006 (USA)      149   \n",
       "2      R  10 January 2003 (USA)      135   \n",
       "3  PG-13     4 March 1994 (USA)      118   \n",
       "4  PG-13     25 June 2004 (USA)      123   \n",
       "5  PG-13   19 August 2016 (USA)      123   \n",
       "\n",
       "                                                 url  user_rating    year  \\\n",
       "1  http://www.imdb.com/title/tt0382625/?ref_=kw_l...          6.6  2006.0   \n",
       "2  http://www.imdb.com/title/tt0307901/?ref_=kw_l...          7.7  2002.0   \n",
       "3  http://www.imdb.com/title/tt0108550/?ref_=kw_l...          7.8  1993.0   \n",
       "4  http://www.imdb.com/title/tt0332280/?ref_=kw_l...          7.9  2004.0   \n",
       "5  http://www.imdb.com/title/tt2638144/?ref_=kw_l...          5.7  2016.0   \n",
       "\n",
       "    ...     Music  Musical  Mystery  Romance  Sci-Fi  Short  Sport  Thriller  \\\n",
       "1   ...         0        0        1        0       0      0      0         1   \n",
       "2   ...         0        0        0        0       0      0      0         0   \n",
       "3   ...         0        0        0        0       0      0      0         0   \n",
       "4   ...         0        0        0        1       0      0      0         0   \n",
       "5   ...         0        0        0        0       0      0      0         0   \n",
       "\n",
       "   War  Western  \n",
       "1    0        0  \n",
       "2    0        0  \n",
       "3    0        0  \n",
       "4    0        0  \n",
       "5    0        0  \n",
       "\n",
       "[5 rows x 33 columns]"
      ]
     },
     "execution_count": 208,
     "metadata": {},
     "output_type": "execute_result"
    }
   ],
   "source": [
    "movieDF.head()"
   ]
  },
  {
   "cell_type": "code",
   "execution_count": 209,
   "metadata": {},
   "outputs": [],
   "source": [
    "dateDF = movieDF.release_date.str.split(expand=True)"
   ]
  },
  {
   "cell_type": "code",
   "execution_count": 210,
   "metadata": {
    "collapsed": true
   },
   "outputs": [],
   "source": [
    "movieDF.drop('year',axis=1,inplace=True)"
   ]
  },
  {
   "cell_type": "code",
   "execution_count": 211,
   "metadata": {},
   "outputs": [
    {
     "data": {
      "text/html": [
       "<div>\n",
       "<style>\n",
       "    .dataframe thead tr:only-child th {\n",
       "        text-align: right;\n",
       "    }\n",
       "\n",
       "    .dataframe thead th {\n",
       "        text-align: left;\n",
       "    }\n",
       "\n",
       "    .dataframe tbody tr th {\n",
       "        vertical-align: top;\n",
       "    }\n",
       "</style>\n",
       "<table border=\"1\" class=\"dataframe\">\n",
       "  <thead>\n",
       "    <tr style=\"text-align: right;\">\n",
       "      <th></th>\n",
       "      <th>0</th>\n",
       "      <th>1</th>\n",
       "      <th>2</th>\n",
       "      <th>3</th>\n",
       "      <th>4</th>\n",
       "      <th>5</th>\n",
       "    </tr>\n",
       "  </thead>\n",
       "  <tbody>\n",
       "    <tr>\n",
       "      <th>1</th>\n",
       "      <td>19</td>\n",
       "      <td>May</td>\n",
       "      <td>2006</td>\n",
       "      <td>(USA)</td>\n",
       "      <td>None</td>\n",
       "      <td>None</td>\n",
       "    </tr>\n",
       "    <tr>\n",
       "      <th>2</th>\n",
       "      <td>10</td>\n",
       "      <td>January</td>\n",
       "      <td>2003</td>\n",
       "      <td>(USA)</td>\n",
       "      <td>None</td>\n",
       "      <td>None</td>\n",
       "    </tr>\n",
       "    <tr>\n",
       "      <th>3</th>\n",
       "      <td>4</td>\n",
       "      <td>March</td>\n",
       "      <td>1994</td>\n",
       "      <td>(USA)</td>\n",
       "      <td>None</td>\n",
       "      <td>None</td>\n",
       "    </tr>\n",
       "    <tr>\n",
       "      <th>4</th>\n",
       "      <td>25</td>\n",
       "      <td>June</td>\n",
       "      <td>2004</td>\n",
       "      <td>(USA)</td>\n",
       "      <td>None</td>\n",
       "      <td>None</td>\n",
       "    </tr>\n",
       "    <tr>\n",
       "      <th>5</th>\n",
       "      <td>19</td>\n",
       "      <td>August</td>\n",
       "      <td>2016</td>\n",
       "      <td>(USA)</td>\n",
       "      <td>None</td>\n",
       "      <td>None</td>\n",
       "    </tr>\n",
       "  </tbody>\n",
       "</table>\n",
       "</div>"
      ],
      "text/plain": [
       "    0        1     2      3     4     5\n",
       "1  19      May  2006  (USA)  None  None\n",
       "2  10  January  2003  (USA)  None  None\n",
       "3   4    March  1994  (USA)  None  None\n",
       "4  25     June  2004  (USA)  None  None\n",
       "5  19   August  2016  (USA)  None  None"
      ]
     },
     "execution_count": 211,
     "metadata": {},
     "output_type": "execute_result"
    }
   ],
   "source": [
    "dateDF.head()"
   ]
  },
  {
   "cell_type": "code",
   "execution_count": 212,
   "metadata": {},
   "outputs": [],
   "source": [
    "dateDF.columns = ['day','month','year','country','x1', 'x2']"
   ]
  },
  {
   "cell_type": "code",
   "execution_count": 213,
   "metadata": {},
   "outputs": [],
   "source": [
    "dateDF.to_csv('dates.csv')"
   ]
  },
  {
   "cell_type": "code",
   "execution_count": 214,
   "metadata": {},
   "outputs": [],
   "source": [
    "dateDF.drop(['x1','x2'],inplace=True,axis=1)"
   ]
  },
  {
   "cell_type": "code",
   "execution_count": 215,
   "metadata": {
    "collapsed": true
   },
   "outputs": [],
   "source": [
    "dropdates = [320,424,750,789,982,1067,1128,1232,1353,1364,1614,1695,1734,1739,1782,\n",
    "             1914,2031,2120,2145,2600,2755,2792,2905,3147,3215,3223,3476,3808,3813,3876,\n",
    "             3916,4012,4106,4469,4581,4819,4882,5027,5038,5333,5542,5609,5639,5666,5877,\n",
    "             5978,6061,6077,6539,6552,6618,7520,8381,8513,8847,9046]"
   ]
  },
  {
   "cell_type": "code",
   "execution_count": 216,
   "metadata": {},
   "outputs": [],
   "source": [
    "movieDF = movieDF.join(dateDF)"
   ]
  },
  {
   "cell_type": "code",
   "execution_count": 217,
   "metadata": {},
   "outputs": [],
   "source": [
    "movieDF.drop(dropdates, axis=0,inplace=True)"
   ]
  },
  {
   "cell_type": "code",
   "execution_count": 218,
   "metadata": {},
   "outputs": [],
   "source": [
    "#dateDF['monthnum'] = dateDf['month'].replace([])"
   ]
  },
  {
   "cell_type": "code",
   "execution_count": 219,
   "metadata": {},
   "outputs": [
    {
     "data": {
      "text/plain": [
       "(1991, 36)"
      ]
     },
     "execution_count": 219,
     "metadata": {},
     "output_type": "execute_result"
    }
   ],
   "source": [
    "movieDF.shape"
   ]
  },
  {
   "cell_type": "code",
   "execution_count": 220,
   "metadata": {},
   "outputs": [
    {
     "data": {
      "text/plain": [
       "['box_office',\n",
       " 'budget',\n",
       " 'director',\n",
       " 'name',\n",
       " 'rating',\n",
       " 'release_date',\n",
       " 'runtime',\n",
       " 'url',\n",
       " 'user_rating',\n",
       " 'Action',\n",
       " 'Adventure',\n",
       " 'Animation',\n",
       " 'Biography',\n",
       " 'Comedy',\n",
       " 'Crime',\n",
       " 'Documentary',\n",
       " 'Drama',\n",
       " 'Family',\n",
       " 'Fantasy',\n",
       " 'Film-Noir',\n",
       " 'History',\n",
       " 'Horror',\n",
       " 'Music',\n",
       " 'Musical',\n",
       " 'Mystery',\n",
       " 'Romance',\n",
       " 'Sci-Fi',\n",
       " 'Short',\n",
       " 'Sport',\n",
       " 'Thriller',\n",
       " 'War',\n",
       " 'Western',\n",
       " 'day',\n",
       " 'month',\n",
       " 'year',\n",
       " 'country']"
      ]
     },
     "execution_count": 220,
     "metadata": {},
     "output_type": "execute_result"
    }
   ],
   "source": [
    "movieDF.columns.tolist()"
   ]
  },
  {
   "cell_type": "code",
   "execution_count": 231,
   "metadata": {},
   "outputs": [
    {
     "data": {
      "text/plain": [
       "array(['2006', '2003', '1994', '2004', '2016', '1987', '2011', '2002',\n",
       "       '2015', '2009', '1993', '2010', '1977', '2017', '1984', '2001',\n",
       "       '2014', '1953', '1997', '2000', '1995', '1971', '2007', '2008',\n",
       "       '2012', '1990', '1961', '1983', '1989', '1986', '1992', '1957',\n",
       "       '1985', '1956', '2005', '1999', '1980', '1988', '1931', '1965',\n",
       "       '1979', '1933', '1940', '2013', '1998', '1969', '1996', '1974',\n",
       "       '1981', '1978', '1964', '1991', '1963', '1967', '1972', '1976',\n",
       "       '1962', '1960', '1982', '1973', '1958', '1947', '1968', '1975',\n",
       "       '1966', '1970', '1942', '1944', '1949', '1955', '1954', '1915',\n",
       "       '1943', '1946', '1926', '1928', '1945', '1959', '1934', '1930',\n",
       "       '1948', '1951', '1939', '1952', '1941', '1937', '1918', '1921',\n",
       "       '1936', '1925', '1916', '1922', '1923', '1929', '1927', '1919',\n",
       "       '1924'], dtype=object)"
      ]
     },
     "execution_count": 231,
     "metadata": {},
     "output_type": "execute_result"
    }
   ],
   "source": [
    "movieDF.year.unique()"
   ]
  },
  {
   "cell_type": "code",
   "execution_count": 233,
   "metadata": {},
   "outputs": [
    {
     "data": {
      "text/plain": [
       "array(['19', '10', '4', '25', '9', '21', '1', '18', '8', '2', '16', '15',\n",
       "       '24', '7', '6', '3', '26', '14', '23', '28', '31', '5', '13', '30',\n",
       "       '22', '17', '27', '11', '29', '20', '12'], dtype=object)"
      ]
     },
     "execution_count": 233,
     "metadata": {},
     "output_type": "execute_result"
    }
   ],
   "source": [
    "movieDF.day.unique()"
   ]
  },
  {
   "cell_type": "code",
   "execution_count": 232,
   "metadata": {},
   "outputs": [
    {
     "data": {
      "text/plain": [
       "array(['May', 'January', 'March', 'June', 'August', 'October', 'July',\n",
       "       'December', 'September', 'February', 'April', 'November'], dtype=object)"
      ]
     },
     "execution_count": 232,
     "metadata": {},
     "output_type": "execute_result"
    }
   ],
   "source": [
    "movieDF.month.unique()"
   ]
  },
  {
   "cell_type": "code",
   "execution_count": 229,
   "metadata": {},
   "outputs": [
    {
     "data": {
      "text/html": [
       "<div>\n",
       "<style>\n",
       "    .dataframe thead tr:only-child th {\n",
       "        text-align: right;\n",
       "    }\n",
       "\n",
       "    .dataframe thead th {\n",
       "        text-align: left;\n",
       "    }\n",
       "\n",
       "    .dataframe tbody tr th {\n",
       "        vertical-align: top;\n",
       "    }\n",
       "</style>\n",
       "<table border=\"1\" class=\"dataframe\">\n",
       "  <thead>\n",
       "    <tr style=\"text-align: right;\">\n",
       "      <th></th>\n",
       "      <th>box_office</th>\n",
       "      <th>budget</th>\n",
       "      <th>director</th>\n",
       "      <th>name</th>\n",
       "      <th>rating</th>\n",
       "      <th>release_date</th>\n",
       "      <th>runtime</th>\n",
       "      <th>url</th>\n",
       "      <th>user_rating</th>\n",
       "      <th>Action</th>\n",
       "      <th>...</th>\n",
       "      <th>Sci-Fi</th>\n",
       "      <th>Short</th>\n",
       "      <th>Sport</th>\n",
       "      <th>Thriller</th>\n",
       "      <th>War</th>\n",
       "      <th>Western</th>\n",
       "      <th>day</th>\n",
       "      <th>month</th>\n",
       "      <th>year</th>\n",
       "      <th>country</th>\n",
       "    </tr>\n",
       "  </thead>\n",
       "  <tbody>\n",
       "    <tr>\n",
       "      <th>9150</th>\n",
       "      <td>342198</td>\n",
       "      <td>0</td>\n",
       "      <td>Claude Berri</td>\n",
       "      <td>Uranus</td>\n",
       "      <td>R</td>\n",
       "      <td>October 1991 (USA)</td>\n",
       "      <td>0</td>\n",
       "      <td>http://www.imdb.com/title/tt0100851/?ref_=kw_l...</td>\n",
       "      <td>7.2</td>\n",
       "      <td>0</td>\n",
       "      <td>...</td>\n",
       "      <td>0</td>\n",
       "      <td>0</td>\n",
       "      <td>0</td>\n",
       "      <td>0</td>\n",
       "      <td>0</td>\n",
       "      <td>0</td>\n",
       "      <td>October</td>\n",
       "      <td>1991</td>\n",
       "      <td>(USA)</td>\n",
       "      <td>None</td>\n",
       "    </tr>\n",
       "  </tbody>\n",
       "</table>\n",
       "<p>1 rows × 36 columns</p>\n",
       "</div>"
      ],
      "text/plain": [
       "      box_office budget      director    name rating        release_date  \\\n",
       "9150      342198      0  Claude Berri  Uranus      R  October 1991 (USA)   \n",
       "\n",
       "      runtime                                                url  user_rating  \\\n",
       "9150        0  http://www.imdb.com/title/tt0100851/?ref_=kw_l...          7.2   \n",
       "\n",
       "      Action   ...     Sci-Fi  Short  Sport  Thriller  War  Western      day  \\\n",
       "9150       0   ...          0      0      0         0    0        0  October   \n",
       "\n",
       "      month   year  country  \n",
       "9150   1991  (USA)     None  \n",
       "\n",
       "[1 rows x 36 columns]"
      ]
     },
     "execution_count": 229,
     "metadata": {},
     "output_type": "execute_result"
    }
   ],
   "source": [
    "movieDF.loc[movieDF['month'] == '1991']"
   ]
  },
  {
   "cell_type": "code",
   "execution_count": 230,
   "metadata": {
    "collapsed": true
   },
   "outputs": [],
   "source": [
    "movieDF.drop(9150, axis=0,inplace=True)"
   ]
  },
  {
   "cell_type": "code",
   "execution_count": 234,
   "metadata": {
    "collapsed": true
   },
   "outputs": [],
   "source": [
    "monthDict = {'January':1, 'February':2, 'March':3, 'April': 4, 'May': 5, 'June':6, 'July':7,\n",
    "            'August':8, 'September':9, 'October':10, 'November':11, 'December':12}"
   ]
  },
  {
   "cell_type": "code",
   "execution_count": 236,
   "metadata": {},
   "outputs": [],
   "source": [
    "movieDF['monthnums'] = movieDF.month.map(monthDict)"
   ]
  },
  {
   "cell_type": "code",
   "execution_count": 237,
   "metadata": {},
   "outputs": [
    {
     "data": {
      "text/html": [
       "<div>\n",
       "<style>\n",
       "    .dataframe thead tr:only-child th {\n",
       "        text-align: right;\n",
       "    }\n",
       "\n",
       "    .dataframe thead th {\n",
       "        text-align: left;\n",
       "    }\n",
       "\n",
       "    .dataframe tbody tr th {\n",
       "        vertical-align: top;\n",
       "    }\n",
       "</style>\n",
       "<table border=\"1\" class=\"dataframe\">\n",
       "  <thead>\n",
       "    <tr style=\"text-align: right;\">\n",
       "      <th></th>\n",
       "      <th>box_office</th>\n",
       "      <th>budget</th>\n",
       "      <th>director</th>\n",
       "      <th>name</th>\n",
       "      <th>rating</th>\n",
       "      <th>release_date</th>\n",
       "      <th>runtime</th>\n",
       "      <th>url</th>\n",
       "      <th>user_rating</th>\n",
       "      <th>Action</th>\n",
       "      <th>...</th>\n",
       "      <th>Short</th>\n",
       "      <th>Sport</th>\n",
       "      <th>Thriller</th>\n",
       "      <th>War</th>\n",
       "      <th>Western</th>\n",
       "      <th>day</th>\n",
       "      <th>month</th>\n",
       "      <th>year</th>\n",
       "      <th>country</th>\n",
       "      <th>monthnums</th>\n",
       "    </tr>\n",
       "  </thead>\n",
       "  <tbody>\n",
       "    <tr>\n",
       "      <th>1</th>\n",
       "      <td>217536138</td>\n",
       "      <td>125000000</td>\n",
       "      <td>Ron Howard</td>\n",
       "      <td>The Da Vinci Code</td>\n",
       "      <td>PG-13</td>\n",
       "      <td>19 May 2006 (USA)</td>\n",
       "      <td>149</td>\n",
       "      <td>http://www.imdb.com/title/tt0382625/?ref_=kw_l...</td>\n",
       "      <td>6.6</td>\n",
       "      <td>0</td>\n",
       "      <td>...</td>\n",
       "      <td>0</td>\n",
       "      <td>0</td>\n",
       "      <td>1</td>\n",
       "      <td>0</td>\n",
       "      <td>0</td>\n",
       "      <td>19</td>\n",
       "      <td>May</td>\n",
       "      <td>2006</td>\n",
       "      <td>(USA)</td>\n",
       "      <td>5</td>\n",
       "    </tr>\n",
       "    <tr>\n",
       "      <th>2</th>\n",
       "      <td>13060843</td>\n",
       "      <td>5000000</td>\n",
       "      <td>Spike Lee</td>\n",
       "      <td>25th Hour</td>\n",
       "      <td>R</td>\n",
       "      <td>10 January 2003 (USA)</td>\n",
       "      <td>135</td>\n",
       "      <td>http://www.imdb.com/title/tt0307901/?ref_=kw_l...</td>\n",
       "      <td>7.7</td>\n",
       "      <td>0</td>\n",
       "      <td>...</td>\n",
       "      <td>0</td>\n",
       "      <td>0</td>\n",
       "      <td>0</td>\n",
       "      <td>0</td>\n",
       "      <td>0</td>\n",
       "      <td>10</td>\n",
       "      <td>January</td>\n",
       "      <td>2003</td>\n",
       "      <td>(USA)</td>\n",
       "      <td>1</td>\n",
       "    </tr>\n",
       "    <tr>\n",
       "      <th>3</th>\n",
       "      <td>9170214</td>\n",
       "      <td>11000000</td>\n",
       "      <td>Lasse Hallström</td>\n",
       "      <td>What's Eating Gilbert Grape</td>\n",
       "      <td>PG-13</td>\n",
       "      <td>4 March 1994 (USA)</td>\n",
       "      <td>118</td>\n",
       "      <td>http://www.imdb.com/title/tt0108550/?ref_=kw_l...</td>\n",
       "      <td>7.8</td>\n",
       "      <td>0</td>\n",
       "      <td>...</td>\n",
       "      <td>0</td>\n",
       "      <td>0</td>\n",
       "      <td>0</td>\n",
       "      <td>0</td>\n",
       "      <td>0</td>\n",
       "      <td>4</td>\n",
       "      <td>March</td>\n",
       "      <td>1994</td>\n",
       "      <td>(USA)</td>\n",
       "      <td>3</td>\n",
       "    </tr>\n",
       "    <tr>\n",
       "      <th>4</th>\n",
       "      <td>81001787</td>\n",
       "      <td>29000000</td>\n",
       "      <td>Nick Cassavetes</td>\n",
       "      <td>The Notebook</td>\n",
       "      <td>PG-13</td>\n",
       "      <td>25 June 2004 (USA)</td>\n",
       "      <td>123</td>\n",
       "      <td>http://www.imdb.com/title/tt0332280/?ref_=kw_l...</td>\n",
       "      <td>7.9</td>\n",
       "      <td>0</td>\n",
       "      <td>...</td>\n",
       "      <td>0</td>\n",
       "      <td>0</td>\n",
       "      <td>0</td>\n",
       "      <td>0</td>\n",
       "      <td>0</td>\n",
       "      <td>25</td>\n",
       "      <td>June</td>\n",
       "      <td>2004</td>\n",
       "      <td>(USA)</td>\n",
       "      <td>6</td>\n",
       "    </tr>\n",
       "    <tr>\n",
       "      <th>5</th>\n",
       "      <td>26384681</td>\n",
       "      <td>100000000</td>\n",
       "      <td>Timur Bekmambetov</td>\n",
       "      <td>Ben-Hur</td>\n",
       "      <td>PG-13</td>\n",
       "      <td>19 August 2016 (USA)</td>\n",
       "      <td>123</td>\n",
       "      <td>http://www.imdb.com/title/tt2638144/?ref_=kw_l...</td>\n",
       "      <td>5.7</td>\n",
       "      <td>1</td>\n",
       "      <td>...</td>\n",
       "      <td>0</td>\n",
       "      <td>0</td>\n",
       "      <td>0</td>\n",
       "      <td>0</td>\n",
       "      <td>0</td>\n",
       "      <td>19</td>\n",
       "      <td>August</td>\n",
       "      <td>2016</td>\n",
       "      <td>(USA)</td>\n",
       "      <td>8</td>\n",
       "    </tr>\n",
       "  </tbody>\n",
       "</table>\n",
       "<p>5 rows × 37 columns</p>\n",
       "</div>"
      ],
      "text/plain": [
       "   box_office     budget           director                         name  \\\n",
       "1   217536138  125000000         Ron Howard            The Da Vinci Code   \n",
       "2    13060843    5000000          Spike Lee                    25th Hour   \n",
       "3     9170214   11000000    Lasse Hallström  What's Eating Gilbert Grape   \n",
       "4    81001787   29000000    Nick Cassavetes                 The Notebook   \n",
       "5    26384681  100000000  Timur Bekmambetov                      Ben-Hur   \n",
       "\n",
       "  rating           release_date  runtime  \\\n",
       "1  PG-13      19 May 2006 (USA)      149   \n",
       "2      R  10 January 2003 (USA)      135   \n",
       "3  PG-13     4 March 1994 (USA)      118   \n",
       "4  PG-13     25 June 2004 (USA)      123   \n",
       "5  PG-13   19 August 2016 (USA)      123   \n",
       "\n",
       "                                                 url  user_rating  Action  \\\n",
       "1  http://www.imdb.com/title/tt0382625/?ref_=kw_l...          6.6       0   \n",
       "2  http://www.imdb.com/title/tt0307901/?ref_=kw_l...          7.7       0   \n",
       "3  http://www.imdb.com/title/tt0108550/?ref_=kw_l...          7.8       0   \n",
       "4  http://www.imdb.com/title/tt0332280/?ref_=kw_l...          7.9       0   \n",
       "5  http://www.imdb.com/title/tt2638144/?ref_=kw_l...          5.7       1   \n",
       "\n",
       "     ...      Short  Sport  Thriller  War  Western  day    month  year  \\\n",
       "1    ...          0      0         1    0        0   19      May  2006   \n",
       "2    ...          0      0         0    0        0   10  January  2003   \n",
       "3    ...          0      0         0    0        0    4    March  1994   \n",
       "4    ...          0      0         0    0        0   25     June  2004   \n",
       "5    ...          0      0         0    0        0   19   August  2016   \n",
       "\n",
       "   country  monthnums  \n",
       "1    (USA)          5  \n",
       "2    (USA)          1  \n",
       "3    (USA)          3  \n",
       "4    (USA)          6  \n",
       "5    (USA)          8  \n",
       "\n",
       "[5 rows x 37 columns]"
      ]
     },
     "execution_count": 237,
     "metadata": {},
     "output_type": "execute_result"
    }
   ],
   "source": [
    "movieDF.head()"
   ]
  },
  {
   "cell_type": "code",
   "execution_count": 240,
   "metadata": {},
   "outputs": [],
   "source": [
    "movieDF['release_date'] = movieDF['monthnums'].map(str)+\"/\"+movieDF['day'].map(str)+'/'+movieDF['year'].map(str)"
   ]
  },
  {
   "cell_type": "code",
   "execution_count": 242,
   "metadata": {},
   "outputs": [],
   "source": [
    "movieDF['release_date'] = pd.to_datetime(movieDF.release_date)"
   ]
  },
  {
   "cell_type": "code",
   "execution_count": 187,
   "metadata": {
    "collapsed": true
   },
   "outputs": [],
   "source": [
    "#Cleanup Genres and convert to indicator variables\n",
    "movieDF['genre'] = movieDF.genre.apply(lambda x: ','.join(x))\n",
    "movieDF['genre'] = movieDF.genre.str.strip()"
   ]
  },
  {
   "cell_type": "code",
   "execution_count": 243,
   "metadata": {
    "scrolled": true
   },
   "outputs": [
    {
     "data": {
      "text/html": [
       "<div>\n",
       "<style>\n",
       "    .dataframe thead tr:only-child th {\n",
       "        text-align: right;\n",
       "    }\n",
       "\n",
       "    .dataframe thead th {\n",
       "        text-align: left;\n",
       "    }\n",
       "\n",
       "    .dataframe tbody tr th {\n",
       "        vertical-align: top;\n",
       "    }\n",
       "</style>\n",
       "<table border=\"1\" class=\"dataframe\">\n",
       "  <thead>\n",
       "    <tr style=\"text-align: right;\">\n",
       "      <th></th>\n",
       "      <th>box_office</th>\n",
       "      <th>budget</th>\n",
       "      <th>director</th>\n",
       "      <th>name</th>\n",
       "      <th>rating</th>\n",
       "      <th>release_date</th>\n",
       "      <th>runtime</th>\n",
       "      <th>url</th>\n",
       "      <th>user_rating</th>\n",
       "      <th>Action</th>\n",
       "      <th>...</th>\n",
       "      <th>Short</th>\n",
       "      <th>Sport</th>\n",
       "      <th>Thriller</th>\n",
       "      <th>War</th>\n",
       "      <th>Western</th>\n",
       "      <th>day</th>\n",
       "      <th>month</th>\n",
       "      <th>year</th>\n",
       "      <th>country</th>\n",
       "      <th>monthnums</th>\n",
       "    </tr>\n",
       "  </thead>\n",
       "  <tbody>\n",
       "    <tr>\n",
       "      <th>1</th>\n",
       "      <td>217536138</td>\n",
       "      <td>125000000</td>\n",
       "      <td>Ron Howard</td>\n",
       "      <td>The Da Vinci Code</td>\n",
       "      <td>PG-13</td>\n",
       "      <td>2006-05-19</td>\n",
       "      <td>149</td>\n",
       "      <td>http://www.imdb.com/title/tt0382625/?ref_=kw_l...</td>\n",
       "      <td>6.6</td>\n",
       "      <td>0</td>\n",
       "      <td>...</td>\n",
       "      <td>0</td>\n",
       "      <td>0</td>\n",
       "      <td>1</td>\n",
       "      <td>0</td>\n",
       "      <td>0</td>\n",
       "      <td>19</td>\n",
       "      <td>May</td>\n",
       "      <td>2006</td>\n",
       "      <td>(USA)</td>\n",
       "      <td>5</td>\n",
       "    </tr>\n",
       "    <tr>\n",
       "      <th>2</th>\n",
       "      <td>13060843</td>\n",
       "      <td>5000000</td>\n",
       "      <td>Spike Lee</td>\n",
       "      <td>25th Hour</td>\n",
       "      <td>R</td>\n",
       "      <td>2003-01-10</td>\n",
       "      <td>135</td>\n",
       "      <td>http://www.imdb.com/title/tt0307901/?ref_=kw_l...</td>\n",
       "      <td>7.7</td>\n",
       "      <td>0</td>\n",
       "      <td>...</td>\n",
       "      <td>0</td>\n",
       "      <td>0</td>\n",
       "      <td>0</td>\n",
       "      <td>0</td>\n",
       "      <td>0</td>\n",
       "      <td>10</td>\n",
       "      <td>January</td>\n",
       "      <td>2003</td>\n",
       "      <td>(USA)</td>\n",
       "      <td>1</td>\n",
       "    </tr>\n",
       "    <tr>\n",
       "      <th>3</th>\n",
       "      <td>9170214</td>\n",
       "      <td>11000000</td>\n",
       "      <td>Lasse Hallström</td>\n",
       "      <td>What's Eating Gilbert Grape</td>\n",
       "      <td>PG-13</td>\n",
       "      <td>1994-03-04</td>\n",
       "      <td>118</td>\n",
       "      <td>http://www.imdb.com/title/tt0108550/?ref_=kw_l...</td>\n",
       "      <td>7.8</td>\n",
       "      <td>0</td>\n",
       "      <td>...</td>\n",
       "      <td>0</td>\n",
       "      <td>0</td>\n",
       "      <td>0</td>\n",
       "      <td>0</td>\n",
       "      <td>0</td>\n",
       "      <td>4</td>\n",
       "      <td>March</td>\n",
       "      <td>1994</td>\n",
       "      <td>(USA)</td>\n",
       "      <td>3</td>\n",
       "    </tr>\n",
       "    <tr>\n",
       "      <th>4</th>\n",
       "      <td>81001787</td>\n",
       "      <td>29000000</td>\n",
       "      <td>Nick Cassavetes</td>\n",
       "      <td>The Notebook</td>\n",
       "      <td>PG-13</td>\n",
       "      <td>2004-06-25</td>\n",
       "      <td>123</td>\n",
       "      <td>http://www.imdb.com/title/tt0332280/?ref_=kw_l...</td>\n",
       "      <td>7.9</td>\n",
       "      <td>0</td>\n",
       "      <td>...</td>\n",
       "      <td>0</td>\n",
       "      <td>0</td>\n",
       "      <td>0</td>\n",
       "      <td>0</td>\n",
       "      <td>0</td>\n",
       "      <td>25</td>\n",
       "      <td>June</td>\n",
       "      <td>2004</td>\n",
       "      <td>(USA)</td>\n",
       "      <td>6</td>\n",
       "    </tr>\n",
       "    <tr>\n",
       "      <th>5</th>\n",
       "      <td>26384681</td>\n",
       "      <td>100000000</td>\n",
       "      <td>Timur Bekmambetov</td>\n",
       "      <td>Ben-Hur</td>\n",
       "      <td>PG-13</td>\n",
       "      <td>2016-08-19</td>\n",
       "      <td>123</td>\n",
       "      <td>http://www.imdb.com/title/tt2638144/?ref_=kw_l...</td>\n",
       "      <td>5.7</td>\n",
       "      <td>1</td>\n",
       "      <td>...</td>\n",
       "      <td>0</td>\n",
       "      <td>0</td>\n",
       "      <td>0</td>\n",
       "      <td>0</td>\n",
       "      <td>0</td>\n",
       "      <td>19</td>\n",
       "      <td>August</td>\n",
       "      <td>2016</td>\n",
       "      <td>(USA)</td>\n",
       "      <td>8</td>\n",
       "    </tr>\n",
       "  </tbody>\n",
       "</table>\n",
       "<p>5 rows × 37 columns</p>\n",
       "</div>"
      ],
      "text/plain": [
       "   box_office     budget           director                         name  \\\n",
       "1   217536138  125000000         Ron Howard            The Da Vinci Code   \n",
       "2    13060843    5000000          Spike Lee                    25th Hour   \n",
       "3     9170214   11000000    Lasse Hallström  What's Eating Gilbert Grape   \n",
       "4    81001787   29000000    Nick Cassavetes                 The Notebook   \n",
       "5    26384681  100000000  Timur Bekmambetov                      Ben-Hur   \n",
       "\n",
       "  rating release_date  runtime  \\\n",
       "1  PG-13   2006-05-19      149   \n",
       "2      R   2003-01-10      135   \n",
       "3  PG-13   1994-03-04      118   \n",
       "4  PG-13   2004-06-25      123   \n",
       "5  PG-13   2016-08-19      123   \n",
       "\n",
       "                                                 url  user_rating  Action  \\\n",
       "1  http://www.imdb.com/title/tt0382625/?ref_=kw_l...          6.6       0   \n",
       "2  http://www.imdb.com/title/tt0307901/?ref_=kw_l...          7.7       0   \n",
       "3  http://www.imdb.com/title/tt0108550/?ref_=kw_l...          7.8       0   \n",
       "4  http://www.imdb.com/title/tt0332280/?ref_=kw_l...          7.9       0   \n",
       "5  http://www.imdb.com/title/tt2638144/?ref_=kw_l...          5.7       1   \n",
       "\n",
       "     ...      Short  Sport  Thriller  War  Western  day    month  year  \\\n",
       "1    ...          0      0         1    0        0   19      May  2006   \n",
       "2    ...          0      0         0    0        0   10  January  2003   \n",
       "3    ...          0      0         0    0        0    4    March  1994   \n",
       "4    ...          0      0         0    0        0   25     June  2004   \n",
       "5    ...          0      0         0    0        0   19   August  2016   \n",
       "\n",
       "   country  monthnums  \n",
       "1    (USA)          5  \n",
       "2    (USA)          1  \n",
       "3    (USA)          3  \n",
       "4    (USA)          6  \n",
       "5    (USA)          8  \n",
       "\n",
       "[5 rows x 37 columns]"
      ]
     },
     "execution_count": 243,
     "metadata": {},
     "output_type": "execute_result"
    }
   ],
   "source": [
    "movieDF.head()"
   ]
  },
  {
   "cell_type": "code",
   "execution_count": 189,
   "metadata": {
    "collapsed": true
   },
   "outputs": [],
   "source": [
    "genreDF = movieDF.genre.str.get_dummies(sep = \", \")"
   ]
  },
  {
   "cell_type": "code",
   "execution_count": 190,
   "metadata": {
    "scrolled": true
   },
   "outputs": [
    {
     "data": {
      "text/plain": [
       "['Action',\n",
       " 'Adventure',\n",
       " 'Animation',\n",
       " 'Biography',\n",
       " 'Comedy',\n",
       " 'Crime',\n",
       " 'Documentary',\n",
       " 'Drama',\n",
       " 'Family',\n",
       " 'Fantasy',\n",
       " 'Film-Noir',\n",
       " 'History',\n",
       " 'Horror',\n",
       " 'Music',\n",
       " 'Musical',\n",
       " 'Mystery',\n",
       " 'Romance',\n",
       " 'Sci-Fi',\n",
       " 'Short',\n",
       " 'Sport',\n",
       " 'Thriller',\n",
       " 'War',\n",
       " 'Western']"
      ]
     },
     "execution_count": 190,
     "metadata": {},
     "output_type": "execute_result"
    }
   ],
   "source": [
    "genreDF.columns.tolist()"
   ]
  },
  {
   "cell_type": "markdown",
   "metadata": {},
   "source": [
    "Check to see if there are any null values in the data set."
   ]
  },
  {
   "cell_type": "code",
   "execution_count": 191,
   "metadata": {
    "collapsed": true
   },
   "outputs": [],
   "source": [
    "movieDF = movieDF.join(genreDF)"
   ]
  },
  {
   "cell_type": "code",
   "execution_count": 225,
   "metadata": {},
   "outputs": [
    {
     "data": {
      "text/html": [
       "<div>\n",
       "<style>\n",
       "    .dataframe thead tr:only-child th {\n",
       "        text-align: right;\n",
       "    }\n",
       "\n",
       "    .dataframe thead th {\n",
       "        text-align: left;\n",
       "    }\n",
       "\n",
       "    .dataframe tbody tr th {\n",
       "        vertical-align: top;\n",
       "    }\n",
       "</style>\n",
       "<table border=\"1\" class=\"dataframe\">\n",
       "  <thead>\n",
       "    <tr style=\"text-align: right;\">\n",
       "      <th></th>\n",
       "      <th>box_office</th>\n",
       "      <th>budget</th>\n",
       "      <th>director</th>\n",
       "      <th>name</th>\n",
       "      <th>rating</th>\n",
       "      <th>release_date</th>\n",
       "      <th>runtime</th>\n",
       "      <th>url</th>\n",
       "      <th>user_rating</th>\n",
       "      <th>Action</th>\n",
       "      <th>...</th>\n",
       "      <th>Sci-Fi</th>\n",
       "      <th>Short</th>\n",
       "      <th>Sport</th>\n",
       "      <th>Thriller</th>\n",
       "      <th>War</th>\n",
       "      <th>Western</th>\n",
       "      <th>day</th>\n",
       "      <th>month</th>\n",
       "      <th>year</th>\n",
       "      <th>country</th>\n",
       "    </tr>\n",
       "  </thead>\n",
       "  <tbody>\n",
       "    <tr>\n",
       "      <th>1</th>\n",
       "      <td>217536138</td>\n",
       "      <td>125000000</td>\n",
       "      <td>Ron Howard</td>\n",
       "      <td>The Da Vinci Code</td>\n",
       "      <td>PG-13</td>\n",
       "      <td>19 May 2006 (USA)</td>\n",
       "      <td>149</td>\n",
       "      <td>http://www.imdb.com/title/tt0382625/?ref_=kw_l...</td>\n",
       "      <td>6.6</td>\n",
       "      <td>0</td>\n",
       "      <td>...</td>\n",
       "      <td>0</td>\n",
       "      <td>0</td>\n",
       "      <td>0</td>\n",
       "      <td>1</td>\n",
       "      <td>0</td>\n",
       "      <td>0</td>\n",
       "      <td>19</td>\n",
       "      <td>May</td>\n",
       "      <td>2006</td>\n",
       "      <td>(USA)</td>\n",
       "    </tr>\n",
       "    <tr>\n",
       "      <th>2</th>\n",
       "      <td>13060843</td>\n",
       "      <td>5000000</td>\n",
       "      <td>Spike Lee</td>\n",
       "      <td>25th Hour</td>\n",
       "      <td>R</td>\n",
       "      <td>10 January 2003 (USA)</td>\n",
       "      <td>135</td>\n",
       "      <td>http://www.imdb.com/title/tt0307901/?ref_=kw_l...</td>\n",
       "      <td>7.7</td>\n",
       "      <td>0</td>\n",
       "      <td>...</td>\n",
       "      <td>0</td>\n",
       "      <td>0</td>\n",
       "      <td>0</td>\n",
       "      <td>0</td>\n",
       "      <td>0</td>\n",
       "      <td>0</td>\n",
       "      <td>10</td>\n",
       "      <td>January</td>\n",
       "      <td>2003</td>\n",
       "      <td>(USA)</td>\n",
       "    </tr>\n",
       "    <tr>\n",
       "      <th>3</th>\n",
       "      <td>9170214</td>\n",
       "      <td>11000000</td>\n",
       "      <td>Lasse Hallström</td>\n",
       "      <td>What's Eating Gilbert Grape</td>\n",
       "      <td>PG-13</td>\n",
       "      <td>4 March 1994 (USA)</td>\n",
       "      <td>118</td>\n",
       "      <td>http://www.imdb.com/title/tt0108550/?ref_=kw_l...</td>\n",
       "      <td>7.8</td>\n",
       "      <td>0</td>\n",
       "      <td>...</td>\n",
       "      <td>0</td>\n",
       "      <td>0</td>\n",
       "      <td>0</td>\n",
       "      <td>0</td>\n",
       "      <td>0</td>\n",
       "      <td>0</td>\n",
       "      <td>4</td>\n",
       "      <td>March</td>\n",
       "      <td>1994</td>\n",
       "      <td>(USA)</td>\n",
       "    </tr>\n",
       "    <tr>\n",
       "      <th>4</th>\n",
       "      <td>81001787</td>\n",
       "      <td>29000000</td>\n",
       "      <td>Nick Cassavetes</td>\n",
       "      <td>The Notebook</td>\n",
       "      <td>PG-13</td>\n",
       "      <td>25 June 2004 (USA)</td>\n",
       "      <td>123</td>\n",
       "      <td>http://www.imdb.com/title/tt0332280/?ref_=kw_l...</td>\n",
       "      <td>7.9</td>\n",
       "      <td>0</td>\n",
       "      <td>...</td>\n",
       "      <td>0</td>\n",
       "      <td>0</td>\n",
       "      <td>0</td>\n",
       "      <td>0</td>\n",
       "      <td>0</td>\n",
       "      <td>0</td>\n",
       "      <td>25</td>\n",
       "      <td>June</td>\n",
       "      <td>2004</td>\n",
       "      <td>(USA)</td>\n",
       "    </tr>\n",
       "    <tr>\n",
       "      <th>5</th>\n",
       "      <td>26384681</td>\n",
       "      <td>100000000</td>\n",
       "      <td>Timur Bekmambetov</td>\n",
       "      <td>Ben-Hur</td>\n",
       "      <td>PG-13</td>\n",
       "      <td>19 August 2016 (USA)</td>\n",
       "      <td>123</td>\n",
       "      <td>http://www.imdb.com/title/tt2638144/?ref_=kw_l...</td>\n",
       "      <td>5.7</td>\n",
       "      <td>1</td>\n",
       "      <td>...</td>\n",
       "      <td>0</td>\n",
       "      <td>0</td>\n",
       "      <td>0</td>\n",
       "      <td>0</td>\n",
       "      <td>0</td>\n",
       "      <td>0</td>\n",
       "      <td>19</td>\n",
       "      <td>August</td>\n",
       "      <td>2016</td>\n",
       "      <td>(USA)</td>\n",
       "    </tr>\n",
       "  </tbody>\n",
       "</table>\n",
       "<p>5 rows × 36 columns</p>\n",
       "</div>"
      ],
      "text/plain": [
       "   box_office     budget           director                         name  \\\n",
       "1   217536138  125000000         Ron Howard            The Da Vinci Code   \n",
       "2    13060843    5000000          Spike Lee                    25th Hour   \n",
       "3     9170214   11000000    Lasse Hallström  What's Eating Gilbert Grape   \n",
       "4    81001787   29000000    Nick Cassavetes                 The Notebook   \n",
       "5    26384681  100000000  Timur Bekmambetov                      Ben-Hur   \n",
       "\n",
       "  rating           release_date  runtime  \\\n",
       "1  PG-13      19 May 2006 (USA)      149   \n",
       "2      R  10 January 2003 (USA)      135   \n",
       "3  PG-13     4 March 1994 (USA)      118   \n",
       "4  PG-13     25 June 2004 (USA)      123   \n",
       "5  PG-13   19 August 2016 (USA)      123   \n",
       "\n",
       "                                                 url  user_rating  Action  \\\n",
       "1  http://www.imdb.com/title/tt0382625/?ref_=kw_l...          6.6       0   \n",
       "2  http://www.imdb.com/title/tt0307901/?ref_=kw_l...          7.7       0   \n",
       "3  http://www.imdb.com/title/tt0108550/?ref_=kw_l...          7.8       0   \n",
       "4  http://www.imdb.com/title/tt0332280/?ref_=kw_l...          7.9       0   \n",
       "5  http://www.imdb.com/title/tt2638144/?ref_=kw_l...          5.7       1   \n",
       "\n",
       "    ...     Sci-Fi  Short  Sport  Thriller  War  Western  day    month  year  \\\n",
       "1   ...          0      0      0         1    0        0   19      May  2006   \n",
       "2   ...          0      0      0         0    0        0   10  January  2003   \n",
       "3   ...          0      0      0         0    0        0    4    March  1994   \n",
       "4   ...          0      0      0         0    0        0   25     June  2004   \n",
       "5   ...          0      0      0         0    0        0   19   August  2016   \n",
       "\n",
       "   country  \n",
       "1    (USA)  \n",
       "2    (USA)  \n",
       "3    (USA)  \n",
       "4    (USA)  \n",
       "5    (USA)  \n",
       "\n",
       "[5 rows x 36 columns]"
      ]
     },
     "execution_count": 225,
     "metadata": {},
     "output_type": "execute_result"
    }
   ],
   "source": [
    "movieDF.head()"
   ]
  },
  {
   "cell_type": "code",
   "execution_count": 193,
   "metadata": {
    "collapsed": true
   },
   "outputs": [],
   "source": [
    "movieDF.drop('genre',axis=1,inplace=True)"
   ]
  },
  {
   "cell_type": "code",
   "execution_count": 247,
   "metadata": {},
   "outputs": [
    {
     "data": {
      "text/html": [
       "<div>\n",
       "<style>\n",
       "    .dataframe thead tr:only-child th {\n",
       "        text-align: right;\n",
       "    }\n",
       "\n",
       "    .dataframe thead th {\n",
       "        text-align: left;\n",
       "    }\n",
       "\n",
       "    .dataframe tbody tr th {\n",
       "        vertical-align: top;\n",
       "    }\n",
       "</style>\n",
       "<table border=\"1\" class=\"dataframe\">\n",
       "  <thead>\n",
       "    <tr style=\"text-align: right;\">\n",
       "      <th></th>\n",
       "      <th>author</th>\n",
       "      <th>book_name</th>\n",
       "      <th>genre</th>\n",
       "      <th>isbn</th>\n",
       "      <th>publication_date</th>\n",
       "      <th>url</th>\n",
       "    </tr>\n",
       "  </thead>\n",
       "  <tbody>\n",
       "    <tr>\n",
       "      <th>0</th>\n",
       "      <td>Marquis de Sade</td>\n",
       "      <td>The 120 Days of Sodom</td>\n",
       "      <td>[Erotic fiction, philosophical literature]</td>\n",
       "      <td>(recent edition)</td>\n",
       "      <td>1904</td>\n",
       "      <td>https://en.wikipedia.org/wiki/The_120_Days_of_...</td>\n",
       "    </tr>\n",
       "    <tr>\n",
       "      <th>1</th>\n",
       "      <td>Jack Bickham</td>\n",
       "      <td>The Apple Dumpling Gang</td>\n",
       "      <td>[]</td>\n",
       "      <td>None</td>\n",
       "      <td>None</td>\n",
       "      <td>https://en.wikipedia.org/wiki/The_Apple_Dumpli...</td>\n",
       "    </tr>\n",
       "    <tr>\n",
       "      <th>2</th>\n",
       "      <td>Robert Ludlum</td>\n",
       "      <td>The Apocalypse Watch</td>\n",
       "      <td>[Thriller]</td>\n",
       "      <td>None</td>\n",
       "      <td>April 10, 1995</td>\n",
       "      <td>https://en.wikipedia.org/wiki/The_Apocalypse_W...</td>\n",
       "    </tr>\n",
       "    <tr>\n",
       "      <th>3</th>\n",
       "      <td>None</td>\n",
       "      <td>Antonieta</td>\n",
       "      <td>[]</td>\n",
       "      <td>None</td>\n",
       "      <td>None</td>\n",
       "      <td>https://en.wikipedia.org/wiki/Antonieta</td>\n",
       "    </tr>\n",
       "    <tr>\n",
       "      <th>4</th>\n",
       "      <td>None</td>\n",
       "      <td>None</td>\n",
       "      <td>[]</td>\n",
       "      <td>None</td>\n",
       "      <td>None</td>\n",
       "      <td>https://en.wikipedia.org/wiki/The_Antagonists</td>\n",
       "    </tr>\n",
       "  </tbody>\n",
       "</table>\n",
       "</div>"
      ],
      "text/plain": [
       "            author                book_name  \\\n",
       "0  Marquis de Sade    The 120 Days of Sodom   \n",
       "1     Jack Bickham  The Apple Dumpling Gang   \n",
       "2    Robert Ludlum     The Apocalypse Watch   \n",
       "3             None                Antonieta   \n",
       "4             None                     None   \n",
       "\n",
       "                                        genre              isbn  \\\n",
       "0  [Erotic fiction, philosophical literature]  (recent edition)   \n",
       "1                                          []              None   \n",
       "2                                  [Thriller]              None   \n",
       "3                                          []              None   \n",
       "4                                          []              None   \n",
       "\n",
       "  publication_date                                                url  \n",
       "0             1904  https://en.wikipedia.org/wiki/The_120_Days_of_...  \n",
       "1             None  https://en.wikipedia.org/wiki/The_Apple_Dumpli...  \n",
       "2   April 10, 1995  https://en.wikipedia.org/wiki/The_Apocalypse_W...  \n",
       "3             None            https://en.wikipedia.org/wiki/Antonieta  \n",
       "4             None      https://en.wikipedia.org/wiki/The_Antagonists  "
      ]
     },
     "execution_count": 247,
     "metadata": {},
     "output_type": "execute_result"
    }
   ],
   "source": [
    "bookDF.head()"
   ]
  },
  {
   "cell_type": "code",
   "execution_count": 251,
   "metadata": {},
   "outputs": [
    {
     "data": {
      "text/plain": [
       "(1209, 6)"
      ]
     },
     "execution_count": 251,
     "metadata": {},
     "output_type": "execute_result"
    }
   ],
   "source": [
    "bookDF.shape"
   ]
  },
  {
   "cell_type": "code",
   "execution_count": 256,
   "metadata": {},
   "outputs": [
    {
     "data": {
      "text/plain": [
       "author                0\n",
       "book_name             5\n",
       "genre                 0\n",
       "isbn                800\n",
       "publication_date    184\n",
       "url                   0\n",
       "dtype: int64"
      ]
     },
     "execution_count": 256,
     "metadata": {},
     "output_type": "execute_result"
    }
   ],
   "source": [
    "# drop where auther is null\n",
    "bookDF.isnull().sum()"
   ]
  },
  {
   "cell_type": "code",
   "execution_count": 257,
   "metadata": {
    "collapsed": true
   },
   "outputs": [],
   "source": [
    "#since isbn seems to be useless I am going to drop the column\n",
    "bookDF.drop('isbn',axis=1,inplace=True)"
   ]
  },
  {
   "cell_type": "code",
   "execution_count": 254,
   "metadata": {},
   "outputs": [],
   "source": [
    "bookDF.dropna(subset=['author'],axis=0, inplace=True)"
   ]
  },
  {
   "cell_type": "code",
   "execution_count": 258,
   "metadata": {},
   "outputs": [
    {
     "data": {
      "text/plain": [
       "(917, 5)"
      ]
     },
     "execution_count": 258,
     "metadata": {},
     "output_type": "execute_result"
    }
   ],
   "source": [
    "bookDF.shape"
   ]
  },
  {
   "cell_type": "code",
   "execution_count": 259,
   "metadata": {
    "collapsed": true
   },
   "outputs": [],
   "source": [
    "# also if there are no book names then it is useless to me\n",
    "bookDF.dropna(subset=['book_name'],axis=0, inplace=True)"
   ]
  },
  {
   "cell_type": "code",
   "execution_count": 260,
   "metadata": {},
   "outputs": [
    {
     "data": {
      "text/html": [
       "<div>\n",
       "<style>\n",
       "    .dataframe thead tr:only-child th {\n",
       "        text-align: right;\n",
       "    }\n",
       "\n",
       "    .dataframe thead th {\n",
       "        text-align: left;\n",
       "    }\n",
       "\n",
       "    .dataframe tbody tr th {\n",
       "        vertical-align: top;\n",
       "    }\n",
       "</style>\n",
       "<table border=\"1\" class=\"dataframe\">\n",
       "  <thead>\n",
       "    <tr style=\"text-align: right;\">\n",
       "      <th></th>\n",
       "      <th>author</th>\n",
       "      <th>book_name</th>\n",
       "      <th>genre</th>\n",
       "      <th>publication_date</th>\n",
       "      <th>url</th>\n",
       "    </tr>\n",
       "  </thead>\n",
       "  <tbody>\n",
       "    <tr>\n",
       "      <th>0</th>\n",
       "      <td>Marquis de Sade</td>\n",
       "      <td>The 120 Days of Sodom</td>\n",
       "      <td>[Erotic fiction, philosophical literature]</td>\n",
       "      <td>1904</td>\n",
       "      <td>https://en.wikipedia.org/wiki/The_120_Days_of_...</td>\n",
       "    </tr>\n",
       "    <tr>\n",
       "      <th>1</th>\n",
       "      <td>Jack Bickham</td>\n",
       "      <td>The Apple Dumpling Gang</td>\n",
       "      <td>[]</td>\n",
       "      <td>None</td>\n",
       "      <td>https://en.wikipedia.org/wiki/The_Apple_Dumpli...</td>\n",
       "    </tr>\n",
       "    <tr>\n",
       "      <th>2</th>\n",
       "      <td>Robert Ludlum</td>\n",
       "      <td>The Apocalypse Watch</td>\n",
       "      <td>[Thriller]</td>\n",
       "      <td>April 10, 1995</td>\n",
       "      <td>https://en.wikipedia.org/wiki/The_Apocalypse_W...</td>\n",
       "    </tr>\n",
       "    <tr>\n",
       "      <th>5</th>\n",
       "      <td>Lucy Maud Montgomery</td>\n",
       "      <td>Anne of Green Gables</td>\n",
       "      <td>[]</td>\n",
       "      <td>None</td>\n",
       "      <td>https://en.wikipedia.org/wiki/Anne_of_Green_Ga...</td>\n",
       "    </tr>\n",
       "    <tr>\n",
       "      <th>6</th>\n",
       "      <td>Lucy Maud Montgomery</td>\n",
       "      <td>Anne of Avonlea</td>\n",
       "      <td>[Children's novel]</td>\n",
       "      <td>1909</td>\n",
       "      <td>https://en.wikipedia.org/wiki/Anne_of_Avonlea</td>\n",
       "    </tr>\n",
       "  </tbody>\n",
       "</table>\n",
       "</div>"
      ],
      "text/plain": [
       "                 author                book_name  \\\n",
       "0       Marquis de Sade    The 120 Days of Sodom   \n",
       "1          Jack Bickham  The Apple Dumpling Gang   \n",
       "2         Robert Ludlum     The Apocalypse Watch   \n",
       "5  Lucy Maud Montgomery     Anne of Green Gables   \n",
       "6  Lucy Maud Montgomery          Anne of Avonlea   \n",
       "\n",
       "                                        genre publication_date  \\\n",
       "0  [Erotic fiction, philosophical literature]             1904   \n",
       "1                                          []             None   \n",
       "2                                  [Thriller]   April 10, 1995   \n",
       "5                                          []             None   \n",
       "6                          [Children's novel]             1909   \n",
       "\n",
       "                                                 url  \n",
       "0  https://en.wikipedia.org/wiki/The_120_Days_of_...  \n",
       "1  https://en.wikipedia.org/wiki/The_Apple_Dumpli...  \n",
       "2  https://en.wikipedia.org/wiki/The_Apocalypse_W...  \n",
       "5  https://en.wikipedia.org/wiki/Anne_of_Green_Ga...  \n",
       "6      https://en.wikipedia.org/wiki/Anne_of_Avonlea  "
      ]
     },
     "execution_count": 260,
     "metadata": {},
     "output_type": "execute_result"
    }
   ],
   "source": [
    "bookDF.head()"
   ]
  },
  {
   "cell_type": "code",
   "execution_count": 267,
   "metadata": {
    "collapsed": true
   },
   "outputs": [],
   "source": [
    "#Cleanup Genres and convert to indicator variables\n",
    "bookDF['genre'] = bookDF.genre.apply(lambda x: ','.join(x))\n",
    "bookDF['genre'] = bookDF.genre.str.strip()\n",
    "#bookGenreDF = bookDF.genre.str.get_dummies(sep = \",\")"
   ]
  },
  {
   "cell_type": "code",
   "execution_count": 265,
   "metadata": {},
   "outputs": [
    {
     "data": {
      "text/html": [
       "<div>\n",
       "<style>\n",
       "    .dataframe thead tr:only-child th {\n",
       "        text-align: right;\n",
       "    }\n",
       "\n",
       "    .dataframe thead th {\n",
       "        text-align: left;\n",
       "    }\n",
       "\n",
       "    .dataframe tbody tr th {\n",
       "        vertical-align: top;\n",
       "    }\n",
       "</style>\n",
       "<table border=\"1\" class=\"dataframe\">\n",
       "  <thead>\n",
       "    <tr style=\"text-align: right;\">\n",
       "      <th></th>\n",
       "      <th>author</th>\n",
       "      <th>book_name</th>\n",
       "      <th>genre</th>\n",
       "      <th>publication_date</th>\n",
       "      <th>url</th>\n",
       "    </tr>\n",
       "  </thead>\n",
       "  <tbody>\n",
       "    <tr>\n",
       "      <th>0</th>\n",
       "      <td>Marquis de Sade</td>\n",
       "      <td>The 120 Days of Sodom</td>\n",
       "      <td>E,r,o,t,i,c, ,f,i,c,t,i,o,n,,,p,h,i,l,o,s,o,p,...</td>\n",
       "      <td>1904</td>\n",
       "      <td>https://en.wikipedia.org/wiki/The_120_Days_of_...</td>\n",
       "    </tr>\n",
       "    <tr>\n",
       "      <th>1</th>\n",
       "      <td>Jack Bickham</td>\n",
       "      <td>The Apple Dumpling Gang</td>\n",
       "      <td></td>\n",
       "      <td>None</td>\n",
       "      <td>https://en.wikipedia.org/wiki/The_Apple_Dumpli...</td>\n",
       "    </tr>\n",
       "    <tr>\n",
       "      <th>2</th>\n",
       "      <td>Robert Ludlum</td>\n",
       "      <td>The Apocalypse Watch</td>\n",
       "      <td>T,h,r,i,l,l,e,r</td>\n",
       "      <td>April 10, 1995</td>\n",
       "      <td>https://en.wikipedia.org/wiki/The_Apocalypse_W...</td>\n",
       "    </tr>\n",
       "    <tr>\n",
       "      <th>5</th>\n",
       "      <td>Lucy Maud Montgomery</td>\n",
       "      <td>Anne of Green Gables</td>\n",
       "      <td></td>\n",
       "      <td>None</td>\n",
       "      <td>https://en.wikipedia.org/wiki/Anne_of_Green_Ga...</td>\n",
       "    </tr>\n",
       "    <tr>\n",
       "      <th>6</th>\n",
       "      <td>Lucy Maud Montgomery</td>\n",
       "      <td>Anne of Avonlea</td>\n",
       "      <td>C,h,i,l,d,r,e,n,',s, ,n,o,v,e,l</td>\n",
       "      <td>1909</td>\n",
       "      <td>https://en.wikipedia.org/wiki/Anne_of_Avonlea</td>\n",
       "    </tr>\n",
       "  </tbody>\n",
       "</table>\n",
       "</div>"
      ],
      "text/plain": [
       "                 author                book_name  \\\n",
       "0       Marquis de Sade    The 120 Days of Sodom   \n",
       "1          Jack Bickham  The Apple Dumpling Gang   \n",
       "2         Robert Ludlum     The Apocalypse Watch   \n",
       "5  Lucy Maud Montgomery     Anne of Green Gables   \n",
       "6  Lucy Maud Montgomery          Anne of Avonlea   \n",
       "\n",
       "                                               genre publication_date  \\\n",
       "0  E,r,o,t,i,c, ,f,i,c,t,i,o,n,,,p,h,i,l,o,s,o,p,...             1904   \n",
       "1                                                                None   \n",
       "2                                    T,h,r,i,l,l,e,r   April 10, 1995   \n",
       "5                                                                None   \n",
       "6                    C,h,i,l,d,r,e,n,',s, ,n,o,v,e,l             1909   \n",
       "\n",
       "                                                 url  \n",
       "0  https://en.wikipedia.org/wiki/The_120_Days_of_...  \n",
       "1  https://en.wikipedia.org/wiki/The_Apple_Dumpli...  \n",
       "2  https://en.wikipedia.org/wiki/The_Apocalypse_W...  \n",
       "5  https://en.wikipedia.org/wiki/Anne_of_Green_Ga...  \n",
       "6      https://en.wikipedia.org/wiki/Anne_of_Avonlea  "
      ]
     },
     "execution_count": 265,
     "metadata": {},
     "output_type": "execute_result"
    }
   ],
   "source": [
    "bookDF.head()"
   ]
  },
  {
   "cell_type": "code",
   "execution_count": null,
   "metadata": {
    "collapsed": true
   },
   "outputs": [],
   "source": []
  }
 ],
 "metadata": {
  "kernelspec": {
   "display_name": "Python 3",
   "language": "python",
   "name": "python3"
  },
  "language_info": {
   "codemirror_mode": {
    "name": "ipython",
    "version": 3
   },
   "file_extension": ".py",
   "mimetype": "text/x-python",
   "name": "python",
   "nbconvert_exporter": "python",
   "pygments_lexer": "ipython3",
   "version": "3.6.2"
  }
 },
 "nbformat": 4,
 "nbformat_minor": 2
}
