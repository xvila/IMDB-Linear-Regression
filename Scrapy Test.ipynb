{
 "cells": [
  {
   "cell_type": "code",
   "execution_count": 1,
   "metadata": {
    "collapsed": true
   },
   "outputs": [],
   "source": [
    "import scrapy\n",
    "import pandas as pd\n"
   ]
  },
  {
   "cell_type": "code",
   "execution_count": 3,
   "metadata": {
    "collapsed": true
   },
   "outputs": [],
   "source": [
    "# class MovieSpider(scrapy.Spider):\n",
    "#     name = 'imbd_scrape'\n",
    "\n",
    "#     custom_settings = {\n",
    "#         \"DOWNLOAD_DELAY\": 3,\n",
    "#         \"CONCURRENT_REQUESTS_PER_DOMAIN\": 3,\n",
    "#         \"HTTPCACHE_ENABLED\": True\n",
    "#     } \n",
    "#     start_urls = []\n",
    "#     for i in range(1970,2016):\n",
    "#         #base = 'http://www.imdb.com/search/title?release_date={}'\n",
    "#         base = 'http://www.imdb.com/search/title?year={},{}&title_type=feature&sort=moviemeter,asc'\n",
    "#         url = base.format(i,i)\n",
    "#         start_urls.append(url)\n",
    "        \n",
    "#     #def parse(self, response):\n",
    "#         # Extract the links to the individual festival pages\n",
    "\n",
    "\n",
    "#         # Follow pagination links and repeat"
   ]
  },
  {
   "cell_type": "code",
   "execution_count": 4,
   "metadata": {
    "collapsed": true
   },
   "outputs": [],
   "source": [
    "# start_urls = []\n",
    "# for i in range(1970,2016):\n",
    "#         #base = 'http://www.imdb.com/search/title?release_date={}'\n",
    "#         base = 'http://www.imdb.com/search/title?year={},{}&title_type=feature&sort=moviemeter,asc'\n",
    "#         url = base.format(i,i)\n",
    "#         start_urls.append(url)"
   ]
  },
  {
   "cell_type": "code",
   "execution_count": 5,
   "metadata": {},
   "outputs": [
    {
     "data": {
      "text/plain": [
       "['http://www.imdb.com/search/title?year=1970,1970&title_type=feature&sort=moviemeter,asc',\n",
       " 'http://www.imdb.com/search/title?year=1971,1971&title_type=feature&sort=moviemeter,asc',\n",
       " 'http://www.imdb.com/search/title?year=1972,1972&title_type=feature&sort=moviemeter,asc',\n",
       " 'http://www.imdb.com/search/title?year=1973,1973&title_type=feature&sort=moviemeter,asc',\n",
       " 'http://www.imdb.com/search/title?year=1974,1974&title_type=feature&sort=moviemeter,asc']"
      ]
     },
     "execution_count": 5,
     "metadata": {},
     "output_type": "execute_result"
    }
   ],
   "source": [
    "# start_urls[:5]"
   ]
  },
  {
   "cell_type": "code",
   "execution_count": null,
   "metadata": {
    "collapsed": true
   },
   "outputs": [],
   "source": []
  }
 ],
 "metadata": {
  "kernelspec": {
   "display_name": "Python 3",
   "language": "python",
   "name": "python3"
  },
  "language_info": {
   "codemirror_mode": {
    "name": "ipython",
    "version": 3
   },
   "file_extension": ".py",
   "mimetype": "text/x-python",
   "name": "python",
   "nbconvert_exporter": "python",
   "pygments_lexer": "ipython3",
   "version": "3.6.2"
  }
 },
 "nbformat": 4,
 "nbformat_minor": 2
}
